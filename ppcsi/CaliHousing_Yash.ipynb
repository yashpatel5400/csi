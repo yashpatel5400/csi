{
 "cells": [
  {
   "cell_type": "code",
   "execution_count": 1,
   "metadata": {},
   "outputs": [],
   "source": [
    "import matplotlib.pyplot as plt\n",
    "import numpy as np\n",
    "from sklearn.datasets import fetch_california_housing\n",
    "import torch\n",
    "import model as md\n",
    "import pandas as pd\n",
    "from sklearn.model_selection import train_test_split\n",
    "from torch.utils.data import DataLoader\n",
    "import tqdm\n",
    "import torch_intermediate_layer_getter as ilg\n",
    "from model import MLP"
   ]
  },
  {
   "cell_type": "code",
   "execution_count": 2,
   "metadata": {},
   "outputs": [],
   "source": [
    "california_housing = fetch_california_housing(as_frame=True)\n",
    "X = california_housing.data.loc[:, ['HouseAge', 'AveRooms', 'AveBedrms', 'Population',\n",
    "                                     'AveOccup', 'Latitude', 'Longitude']]\n",
    "Y = pd.concat([california_housing.target, california_housing.data.loc[:, 'MedInc']], axis = 1)"
   ]
  },
  {
   "cell_type": "code",
   "execution_count": 3,
   "metadata": {},
   "outputs": [],
   "source": [
    "X_train, X_test, Y_train, Y_test = train_test_split(X, Y, test_size=0.6, random_state=42)\n",
    "X_calib, X_test, Y_calib, Y_test = train_test_split(X_test, Y_test, test_size=0.5, random_state=42)\n",
    "X_train = torch.tensor(X_train.values, dtype=torch.float32)\n",
    "X_test = torch.tensor(X_test.values, dtype=torch.float32)\n",
    "Y_train = torch.tensor(Y_train.values, dtype=torch.float32)\n",
    "Y_test = torch.tensor(Y_test.values, dtype=torch.float32)\n",
    "X_calib = torch.tensor(X_calib.values, dtype=torch.float32)\n",
    "Y_calib = torch.tensor(Y_calib.values, dtype=torch.float32)"
   ]
  },
  {
   "cell_type": "code",
   "execution_count": 4,
   "metadata": {},
   "outputs": [],
   "source": [
    "torch.manual_seed(42)\n",
    "train_loader = DataLoader(list(zip(X_train, Y_train)), batch_size=64, shuffle=True)\n",
    "calib_loader = DataLoader(list(zip(X_calib, Y_calib)), batch_size=1, shuffle=True)\n",
    "test_loader = DataLoader(list(zip(X_test, Y_test)), batch_size=1, shuffle=True)"
   ]
  },
  {
   "cell_type": "code",
   "execution_count": 5,
   "metadata": {},
   "outputs": [],
   "source": [
    "lol = md.MLP([7, 64, 128, 64, 2])\n",
    "device = torch.device('cuda' if torch.cuda.is_available() else 'cpu')\n",
    "lol = lol.to(device)\n",
    "lr = 0.01\n",
    "optimizer = torch.optim.Adam(filter(lambda p: p.requires_grad, lol.parameters()), lr=lr, weight_decay = 0.0001)"
   ]
  },
  {
   "cell_type": "code",
   "execution_count": 6,
   "metadata": {},
   "outputs": [],
   "source": [
    "def loss_fn_mse(y, y_hat):\n",
    "    mse_loss = torch.nn.MSELoss()\n",
    "    return mse_loss(y, y_hat)"
   ]
  },
  {
   "cell_type": "code",
   "execution_count": 7,
   "metadata": {},
   "outputs": [],
   "source": [
    "def loss_fn_VAE(recon_feature, og_feature, means, log_var):\n",
    "    mse_loss = torch.nn.MSELoss()\n",
    "    mse = mse_loss(recon_feature, og_feature)\n",
    "    kl_loss = -0.5 * torch.sum(1 + log_var - means.pow(2) - log_var.exp())\n",
    "    return mse + kl_loss, mse, kl_loss"
   ]
  },
  {
   "cell_type": "code",
   "execution_count": 8,
   "metadata": {},
   "outputs": [],
   "source": [
    "import torch\n",
    "lol = torch.load(\"lol.pt\")\n",
    "cvae = torch.load(\"cvae.pt\")\n",
    "device = torch.device('cuda' if torch.cuda.is_available() else 'cpu')"
   ]
  },
  {
   "cell_type": "code",
   "execution_count": 9,
   "metadata": {},
   "outputs": [],
   "source": [
    "def get_score_quantile(alpha, model, calib_loader):\n",
    "    model.eval()\n",
    "    with torch.no_grad():\n",
    "        i = 0\n",
    "        losses = []\n",
    "        for data, target in calib_loader:\n",
    "            data = data.to(device)\n",
    "            target = target.to(device)\n",
    "            i = i + 1\n",
    "            Y_hat = model(data)\n",
    "            loss = loss_fn_mse(Y_hat, target).cpu().numpy()\n",
    "            losses.append(loss)\n",
    "    N_c = len(calib_loader)\n",
    "    return np.quantile(losses, (N_c + 1)*(1 - alpha)/N_c), np.sort(losses)"
   ]
  },
  {
   "cell_type": "code",
   "execution_count": 10,
   "metadata": {},
   "outputs": [],
   "source": [
    "def get_variance_estimate(gen_model, model, calib_loader):\n",
    "    gen_model.eval()\n",
    "    with torch.no_grad():\n",
    "        i = 0\n",
    "        losses = np.zeros(64)\n",
    "        for data, target in calib_loader:\n",
    "            data = data.to(device)\n",
    "            target = target.to(device)\n",
    "            i = i + 1\n",
    "            Z_hat = gen_model.generate(data, 1).to(device)\n",
    "            Z = model.mlp[:-1](data)\n",
    "            mse_loss = torch.nn.MSELoss(reduction='none')\n",
    "            loss = torch.square(Z_hat - Z)\n",
    "            losses = np.vstack((losses, loss.cpu().numpy()))\n",
    "    return torch.tensor(np.sqrt(np.mean(losses[1:], axis = 0)), dtype = torch.float32)\n",
    "    "
   ]
  },
  {
   "cell_type": "code",
   "execution_count": 11,
   "metadata": {},
   "outputs": [
    {
     "name": "stdout",
     "output_type": "stream",
     "text": [
      "4.245632671270258\n",
      "[1.0132837e-04 1.4889910e-04 1.9945085e-04 ... 3.4837074e+01 3.8332600e+01\n",
      " 4.4323547e+01]\n",
      "torch.return_types.max(\n",
      "values=tensor([ 5.0000, 15.0001]),\n",
      "indices=tensor([ 17, 167]))\n"
     ]
    }
   ],
   "source": [
    "score_quantile, loss = get_score_quantile(0.1, lol, calib_loader)\n",
    "print(score_quantile)\n",
    "print(loss)\n",
    "print(torch.max(Y_train, dim = 0))"
   ]
  },
  {
   "cell_type": "code",
   "execution_count": 12,
   "metadata": {},
   "outputs": [
    {
     "name": "stdout",
     "output_type": "stream",
     "text": [
      "tensor([4.0593e-01, 2.1543e-11, 1.3707e-06, 1.8020e-06, 2.4847e-08, 1.1839e-11,\n",
      "        7.6108e-08, 8.8369e-10, 2.1050e-07, 2.8845e-03, 2.3023e-07, 1.0020e-02,\n",
      "        1.1304e-07, 2.8555e-02, 1.4516e-05, 1.6765e-07, 3.2300e-06, 1.7817e-01,\n",
      "        3.6100e-10, 2.8207e-06, 3.2829e-02, 3.7771e-02, 1.4877e-01, 9.3463e-06,\n",
      "        3.0397e-12, 1.3561e-07, 2.6623e-06, 3.8958e-07, 1.0215e-07, 1.4126e-06,\n",
      "        6.1932e-02, 1.2294e-01, 1.6362e-08, 1.9601e-03, 5.1450e-05, 2.7486e-01,\n",
      "        6.4168e-02, 1.3775e-07, 3.3311e-11, 5.7322e-07, 2.4885e-05, 6.5393e-02,\n",
      "        2.8680e-08, 2.9092e-05, 1.1030e-08, 1.5751e-01, 2.3125e-01, 5.2150e-09,\n",
      "        1.2024e-10, 2.1277e-02, 4.4311e-13, 1.4285e-03, 1.9395e-09, 4.1996e-05,\n",
      "        1.5824e-01, 1.4011e-12, 1.0123e-06, 4.1836e-08, 6.0674e-07, 2.4898e-01,\n",
      "        1.7808e-09, 9.9885e-08, 2.9173e-10, 5.0318e-03])\n"
     ]
    }
   ],
   "source": [
    "variance_est = get_variance_estimate(cvae, lol, calib_loader)\n",
    "print(variance_est)"
   ]
  },
  {
   "cell_type": "code",
   "execution_count": 13,
   "metadata": {},
   "outputs": [],
   "source": [
    "def pp_csi(quantile, gen_model, point_estimator, n_samples, data, layer, var_est):\n",
    "    gen_model.eval()\n",
    "    point_estimator.eval()\n",
    "    data = data.to(device)\n",
    "    var_est = var_est.to(device)\n",
    "\n",
    "    y_hat = point_estimator(data.reshape(1, -1))\n",
    "    regen_w = gen_model.generate(data.reshape(1, -1), n_samples)\n",
    "    noise = torch.randn(n_samples, regen_w.shape[1]).to(device)\n",
    "    regen_z = regen_w + noise * var_est.repeat(n_samples, 1)\n",
    "    regen_y = layer(regen_z)\n",
    "    # regen_y = point_estimator(regen_w)\n",
    "    prediction_set = y_hat.cpu().detach().numpy().reshape(1, -1)\n",
    "    for i in range(n_samples):\n",
    "        if loss_fn_mse(regen_y[i], y_hat) <= quantile:\n",
    "            prediction_set = np.vstack((prediction_set, regen_y[i].cpu().detach().numpy().reshape(1, -1)))\n",
    "    return prediction_set\n"
   ]
  },
  {
   "cell_type": "code",
   "execution_count": 14,
   "metadata": {},
   "outputs": [
    {
     "name": "stdout",
     "output_type": "stream",
     "text": [
      "201\n"
     ]
    },
    {
     "name": "stderr",
     "output_type": "stream",
     "text": [
      "/home/yppatel/anaconda3/envs/chig/lib/python3.8/site-packages/torch/nn/modules/loss.py:536: UserWarning: Using a target size (torch.Size([1, 2])) that is different to the input size (torch.Size([2])). This will likely lead to incorrect results due to broadcasting. Please ensure they have the same size.\n",
      "  return F.mse_loss(input, target, reduction=self.reduction)\n"
     ]
    }
   ],
   "source": [
    "# print(X_test[0].reshape(1, 7))\n",
    "predictionset= pp_csi(score_quantile, cvae, lol, 200, X_test[0], lol.mlp[-1], variance_est)\n",
    "# print(Y_train[0])\n",
    "# print(predictionset)\n",
    "# print(regen_w[0])\n",
    "# print(lol.mlp[:-1](X_train[0].unsqueeze(0)))\n",
    "# print(loss_fn_mse(regen_w[0], lol.mlp[:-1](X_train[0].unsqueeze(0))))\n",
    "# print(loss_fn_mse(lol(X_train[0].unsqueeze(0)), lol.mlp[-1](regen_w[0])))\n",
    "print(len(predictionset))"
   ]
  },
  {
   "cell_type": "markdown",
   "metadata": {},
   "source": [
    "Wow um this is trash and this is proof that something is sus"
   ]
  },
  {
   "cell_type": "code",
   "execution_count": 15,
   "metadata": {},
   "outputs": [
    {
     "data": {
      "text/plain": [
       "<matplotlib.collections.PathCollection at 0x7fe864092b50>"
      ]
     },
     "execution_count": 15,
     "metadata": {},
     "output_type": "execute_result"
    },
    {
     "data": {
      "image/png": "[encoded data removed]",
      "text/plain": [
       "<Figure size 640x480 with 1 Axes>"
      ]
     },
     "metadata": {},
     "output_type": "display_data"
    }
   ],
   "source": [
    "plot_x = predictionset[:, 0]\n",
    "# plot_x = regen_y\n",
    "plot_y = predictionset[:, 1]\n",
    "plt.scatter(plot_x, plot_y)\n",
    "plt.scatter(Y_test[0, 0].detach().numpy(), Y_test[0, 1].detach().numpy(), color = 'red')\n",
    "plt.scatter(predictionset[0, 0], predictionset[0, 1], color = 'green')\n"
   ]
  },
  {
   "cell_type": "code",
   "execution_count": 18,
   "metadata": {},
   "outputs": [],
   "source": [
    "def get_y_grid(min_y, max_y):\n",
    "    y1 = np.linspace(min_y, max_y, 400)\n",
    "    y2 = np.linspace(min_y, max_y, 400)\n",
    "    y_unflat = np.meshgrid(y1, y2)\n",
    "    return np.vstack((y_unflat[0].flatten(), y_unflat[1].flatten())).T.astype(np.float32)"
   ]
  },
  {
   "cell_type": "code",
   "execution_count": 19,
   "metadata": {},
   "outputs": [],
   "source": [
    "min_y = -8\n",
    "max_y = 8\n",
    "y_grid = get_y_grid(min_y, max_y)"
   ]
  },
  {
   "cell_type": "code",
   "execution_count": 20,
   "metadata": {},
   "outputs": [],
   "source": [
    "test_idx = np.random.randint(len(X_test))\n",
    "X_test_pt = X_test[test_idx:test_idx+1]\n",
    "Y_test_pt = Y_test[test_idx:test_idx+1]\n",
    "Y_hat_test_pt = lol(X_test_pt.reshape(1, -1).to(device)).cpu().detach().numpy()"
   ]
  },
  {
   "cell_type": "code",
   "execution_count": 21,
   "metadata": {},
   "outputs": [],
   "source": [
    "import time\n",
    "import torch\n",
    "import sbibm\n",
    "import numpy as np\n",
    "import pandas as pd\n",
    "import matplotlib.pyplot as plt\n",
    "import seaborn as sns\n",
    "import pickle\n",
    "import argparse"
   ]
  },
  {
   "cell_type": "code",
   "execution_count": 22,
   "metadata": {},
   "outputs": [],
   "source": [
    "plt.rcParams['mathtext.fontset'] = 'stix'\n",
    "plt.rcParams['font.family'] = 'STIXGeneral'\n",
    "\n",
    "SMALL_SIZE = 12\n",
    "MEDIUM_SIZE = 14\n",
    "BIGGER_SIZE = 18\n",
    "\n",
    "plt.rc('font', size=BIGGER_SIZE)          # controls default text sizes\n",
    "plt.rc('axes', titlesize=BIGGER_SIZE)     # fontsize of the axes title\n",
    "plt.rc('axes', labelsize=BIGGER_SIZE)    # fontsize of the x and y labels\n",
    "plt.rc('xtick', labelsize=BIGGER_SIZE)    # fontsize of the tick labels\n",
    "plt.rc('ytick', labelsize=BIGGER_SIZE)    # fontsize of the tick labels\n",
    "plt.rc('legend', fontsize=BIGGER_SIZE)    # legend fontsize\n",
    "plt.rc('figure', titlesize=BIGGER_SIZE)  # fontsize of the figure title"
   ]
  },
  {
   "cell_type": "code",
   "execution_count": 23,
   "metadata": {},
   "outputs": [],
   "source": [
    "scores = np.mean((y_grid - Y_hat_test_pt) ** 2, axis=1)\n",
    "in_pred_region = scores < score_quantile\n",
    "y_pred_region = y_grid[in_pred_region]"
   ]
  },
  {
   "cell_type": "code",
   "execution_count": 24,
   "metadata": {},
   "outputs": [
    {
     "data": {
      "text/plain": [
       "<matplotlib.collections.PathCollection at 0x7fe8518bd820>"
      ]
     },
     "execution_count": 24,
     "metadata": {},
     "output_type": "execute_result"
    },
    {
     "data": {
      "image/png": "[encoded data removed]",
      "text/plain": [
       "<Figure size 640x480 with 1 Axes>"
      ]
     },
     "metadata": {},
     "output_type": "display_data"
    }
   ],
   "source": [
    "import seaborn\n",
    "sns.histplot(x=y_pred_region[:,0], y=y_pred_region[:,1])\n",
    "plt.scatter(Y_hat_test_pt[0,0], Y_hat_test_pt[0,1], c=\"g\")\n",
    "plt.scatter(Y_test_pt[0,0], Y_test_pt[0,1], c=\"r\")"
   ]
  },
  {
   "cell_type": "code",
   "execution_count": null,
   "metadata": {},
   "outputs": [],
   "source": []
  }
 ],
 "metadata": {
  "kernelspec": {
   "display_name": "chig",
   "language": "python",
   "name": "python3"
  },
  "language_info": {
   "codemirror_mode": {
    "name": "ipython",
    "version": 3
   },
   "file_extension": ".py",
   "mimetype": "text/x-python",
   "name": "python",
   "nbconvert_exporter": "python",
   "pygments_lexer": "ipython3",
   "version": "3.8.16"
  },
  "orig_nbformat": 4,
  "vscode": {
   "interpreter": {
    "hash": "025fdf49e09ee838b0c05e971129fbc14df70fae1b22b06a04398c8d66c2f675"
   }
  }
 },
 "nbformat": 4,
 "nbformat_minor": 2
}
