{
 "cells": [
  {
   "cell_type": "code",
   "execution_count": 5,
   "metadata": {},
   "outputs": [],
   "source": [
    "import numpy as np\n",
    "import matplotlib.pyplot as plt"
   ]
  },
  {
   "cell_type": "code",
   "execution_count": 243,
   "metadata": {},
   "outputs": [],
   "source": [
    "# want to min_{{y_i}} E_X[ min_{y_i} || x - y_i || ]\n",
    "# so, since we don't wanna do the math, we just take the MC estimate of this expectation\n",
    "M = 5_000\n",
    "\n",
    "# uniform circle distribution\n",
    "def circle_sample(k):\n",
    "    length = np.random.uniform(0, 1, k)\n",
    "    angle = np.pi * np.random.uniform(0, 2, k)\n",
    "\n",
    "    x = np.sqrt(length) * np.cos(angle)\n",
    "    y = np.sqrt(length) * np.sin(angle)\n",
    "\n",
    "    return np.vstack((x,y)).T\n",
    "\n",
    "# uniform rectangle\n",
    "def rect_sample(k):\n",
    "    return np.random.uniform(low=[0, 0], high=[1, 1], size=(k, 2))"
   ]
  },
  {
   "cell_type": "code",
   "execution_count": 245,
   "metadata": {},
   "outputs": [],
   "source": [
    "M = 10_000\n",
    "N = 4\n",
    "\n",
    "samples = circle_sample(M)      # used for Monte Carlo estimate\n",
    "rps = circle_sample(N)  # number of RPs"
   ]
  },
  {
   "cell_type": "code",
   "execution_count": 246,
   "metadata": {},
   "outputs": [
    {
     "data": {
      "text/plain": [
       "<matplotlib.collections.PathCollection at 0x7f7cccfd3b20>"
      ]
     },
     "execution_count": 246,
     "metadata": {},
     "output_type": "execute_result"
    },
    {
     "data": {
      "image/png": "[encoded data removed]",
      "text/plain": [
       "<Figure size 432x288 with 1 Axes>"
      ]
     },
     "metadata": {
      "needs_background": "light"
     },
     "output_type": "display_data"
    }
   ],
   "source": [
    "plt.scatter(samples[:,0], samples[:,1], color=\"b\")\n",
    "plt.scatter(rps[:,0], rps[:,1], color=\"r\")"
   ]
  },
  {
   "cell_type": "code",
   "execution_count": 248,
   "metadata": {},
   "outputs": [],
   "source": [
    "eta = 0.01\n",
    "update_steps = 20_000\n",
    "\n",
    "for _ in range(update_steps):\n",
    "    tiled_samples = np.tile(samples, (N, 1, 1))\n",
    "    tiled_rps = np.tile(rps, (M, 1, 1))\n",
    "    tiled_rps = np.transpose(tiled_rps, (1, 0, 2))\n",
    "\n",
    "    displacements = tiled_samples - tiled_rps\n",
    "    distances = np.sum(displacements ** 2, axis=-1)\n",
    "    rps_idx = np.argmin(distances, axis=0)\n",
    "\n",
    "    for idx in range(N):\n",
    "        relevant_displacements = displacements[idx,np.where(rps_idx == idx),:][0]\n",
    "        grad = np.sum(relevant_displacements, axis=0) / len(relevant_displacements)\n",
    "        rps[idx] += grad * eta"
   ]
  },
  {
   "cell_type": "code",
   "execution_count": 249,
   "metadata": {},
   "outputs": [
    {
     "data": {
      "text/plain": [
       "<matplotlib.collections.PathCollection at 0x7f7cccee3d60>"
      ]
     },
     "execution_count": 249,
     "metadata": {},
     "output_type": "execute_result"
    },
    {
     "data": {
      "image/png": "[encoded data removed]",
      "text/plain": [
       "<Figure size 432x288 with 1 Axes>"
      ]
     },
     "metadata": {
      "needs_background": "light"
     },
     "output_type": "display_data"
    }
   ],
   "source": [
    "plt.scatter(samples[:,0], samples[:,1], color=\"b\")\n",
    "plt.scatter(rps[:,0], rps[:,1], color=\"r\")"
   ]
  },
  {
   "cell_type": "code",
   "execution_count": null,
   "metadata": {},
   "outputs": [],
   "source": []
  }
 ],
 "metadata": {
  "kernelspec": {
   "display_name": "Python 3",
   "language": "python",
   "name": "python3"
  },
  "language_info": {
   "codemirror_mode": {
    "name": "ipython",
    "version": 3
   },
   "file_extension": ".py",
   "mimetype": "text/x-python",
   "name": "python",
   "nbconvert_exporter": "python",
   "pygments_lexer": "ipython3",
   "version": "3.10.6"
  },
  "orig_nbformat": 4,
  "vscode": {
   "interpreter": {
    "hash": "767d51c1340bd893661ea55ea3124f6de3c7a262a8b4abca0554b478b1e2ff90"
   }
  }
 },
 "nbformat": 4,
 "nbformat_minor": 2
}
