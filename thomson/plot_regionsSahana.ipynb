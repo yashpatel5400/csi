{
 "cells": [
  {
   "cell_type": "code",
   "execution_count": 1,
   "id": "2712436c",
   "metadata": {},
   "outputs": [],
   "source": [
    "import time\n",
    "import torch\n",
    "import sbibm\n",
    "import numpy as np\n",
    "import pandas as pd\n",
    "import matplotlib.pyplot as plt\n",
    "import seaborn as sns\n",
    "import pickle\n",
    "import argparse"
   ]
  },
  {
   "cell_type": "code",
   "execution_count": 2,
   "id": "6974d7e4",
   "metadata": {},
   "outputs": [],
   "source": [
    "plt.rcParams['mathtext.fontset'] = 'stix'\n",
    "plt.rcParams['font.family'] = 'STIXGeneral'\n",
    "\n",
    "SMALL_SIZE = 12\n",
    "MEDIUM_SIZE = 14\n",
    "BIGGER_SIZE = 18\n",
    "\n",
    "plt.rc('font', size=BIGGER_SIZE)          # controls default text sizes\n",
    "plt.rc('axes', titlesize=BIGGER_SIZE)     # fontsize of the axes title\n",
    "plt.rc('axes', labelsize=BIGGER_SIZE)    # fontsize of the x and y labels\n",
    "plt.rc('xtick', labelsize=BIGGER_SIZE)    # fontsize of the tick labels\n",
    "plt.rc('ytick', labelsize=BIGGER_SIZE)    # fontsize of the tick labels\n",
    "plt.rc('legend', fontsize=BIGGER_SIZE)    # legend fontsize\n",
    "plt.rc('figure', titlesize=BIGGER_SIZE)  # fontsize of the figure title"
   ]
  },
  {
   "cell_type": "code",
   "execution_count": 3,
   "id": "d73924d6",
   "metadata": {},
   "outputs": [],
   "source": [
    "def get_thetas_grid(min_theta, max_theta):\n",
    "    theta1 = np.linspace(min_theta, max_theta, 200)\n",
    "    theta2 = np.linspace(min_theta, max_theta, 200)\n",
    "    thetas_unflat = np.meshgrid(theta1, theta2)\n",
    "    return np.vstack((thetas_unflat[0].flatten(), thetas_unflat[1].flatten())).T.astype(np.float32)"
   ]
  },
  {
   "cell_type": "code",
   "execution_count": 193,
   "id": "f5c408ed",
   "metadata": {},
   "outputs": [
    {
     "data": {
      "text/plain": [
       "<Axes: >"
      ]
     },
     "execution_count": 193,
     "metadata": {},
     "output_type": "execute_result"
    },
    {
     "data": {
      "image/png": "[encoded data removed]",
      "text/plain": [
       "<Figure size 640x480 with 1 Axes>"
      ]
     },
     "metadata": {},
     "output_type": "display_data"
    }
   ],
   "source": [
    "task_name = \"two_moons\"\n",
    "\n",
    "task = sbibm.get_task(task_name)\n",
    "prior = task.get_prior_dist()\n",
    "simulator = task.get_simulator()\n",
    "\n",
    "sims = 10_000 # same number for both test and calibration\n",
    "calibration_theta = prior.sample((sims,))\n",
    "calibration_x = simulator(calibration_theta)\n",
    "calibration_theta = calibration_theta[...,:2]\n",
    "\n",
    "thetas = get_thetas_grid(-1, 1)\n",
    "test_sim = 1\n",
    "test_theta = prior.sample((test_sim,))\n",
    "test_x = simulator(test_theta)\n",
    "test_theta = test_theta[...,:2]\n",
    "test_x_tiled = np.tile(test_x, (thetas.shape[0], 1)).astype(np.float32)\n",
    "\n",
    "device = \"cpu\"\n",
    "cached_fn = f\"{task_name}.nf\"\n",
    "with open(cached_fn, \"rb\") as f:\n",
    "    encoder = pickle.load(f)\n",
    "encoder.to(device)\n",
    "\n",
    "cal_scores = 1 / encoder.log_prob(calibration_theta.to(device), calibration_x.to(device)).detach().cpu().exp().numpy()\n",
    "desired_coverages = [0.75, 0.85, 0.95]\n",
    "desired_coverage = desired_coverages[-1]\n",
    "    \n",
    "probs = encoder.log_prob(thetas, test_x_tiled).detach().cpu().exp().numpy()\n",
    "probs_map = probs.reshape((200, 200))\n",
    "\n",
    "conformal_quantile = np.quantile(cal_scores, q = desired_coverage)\n",
    "sns.heatmap((1 / probs_map) < conformal_quantile, cbar=False, xticklabels=False, yticklabels=False)"
   ]
  },
  {
   "cell_type": "code",
   "execution_count": null,
   "id": "c176c7e2",
   "metadata": {},
   "outputs": [],
   "source": []
  },
  {
   "cell_type": "code",
   "execution_count": 197,
   "id": "77b40bc4",
   "metadata": {},
   "outputs": [
    {
     "name": "stderr",
     "output_type": "stream",
     "text": [
      "/tmp/ipykernel_2044413/859588797.py:24: RuntimeWarning: divide by zero encountered in power\n",
      "  flat_forces = K * flat_unit_vectors * flat_dists ** -2\n",
      "/tmp/ipykernel_2044413/859588797.py:24: RuntimeWarning: invalid value encountered in multiply\n",
      "  flat_forces = K * flat_unit_vectors * flat_dists ** -2\n"
     ]
    }
   ],
   "source": [
    "N = 5  # number of representation points\n",
    "T = 100 # time steps of repulsive simulation\n",
    "\n",
    "theta_hat = encoder.sample(N, test_x)[0].detach().cpu().numpy()\n",
    "theta_pos = theta_hat.copy()\n",
    "theta_vel = np.zeros(theta_pos.shape)\n",
    "\n",
    "positions = []\n",
    "for _ in range(T):\n",
    "    positions.append(theta_pos.copy())\n",
    "    \n",
    "    # compute distance vectors for repulsion forces\n",
    "    tiled_theta_pos = np.tile(theta_pos, (theta_pos.shape[0], 1, 1))\n",
    "    tiled_theta_pos = np.transpose(tiled_theta_pos, (1, 0, 2))\n",
    "    dist_vectors = theta_pos - tiled_theta_pos\n",
    "\n",
    "    flat_dist_vectors = dist_vectors.reshape(N * N, -1)\n",
    "    flat_dists = np.linalg.norm(flat_dist_vectors, axis=-1)\n",
    "    flat_dists = np.tile(flat_dists, (2, 1)).T\n",
    "\n",
    "    # compute repulsive forces\n",
    "    K = 1.0 # arbitrary constant for simulating repulsion\n",
    "    flat_unit_vectors = flat_dist_vectors / np.linalg.norm(flat_dists)\n",
    "    flat_forces = K * flat_unit_vectors * flat_dists ** -2\n",
    "    forces = flat_forces.reshape(N, N, -1)\n",
    "\n",
    "    # update velocities and positions\n",
    "    time_step = 0.01\n",
    "    total_force = np.nansum(forces, axis=0)\n",
    "    \n",
    "    # constrain update to conformalized prediction region\n",
    "    proposed_theta_pos = theta_pos.copy()\n",
    "    proposed_theta_pos += theta_vel * time_step\n",
    "    proposed_x_tiled = np.tile(test_x, (N, 1)).astype(np.float32)\n",
    "    probs = encoder.log_prob(proposed_theta_pos, proposed_x_tiled).detach().cpu().exp().numpy()\n",
    "    in_region = ((1 / probs) < conformal_quantile)\n",
    "\n",
    "    theta_pos[in_region] = proposed_theta_pos[in_region]\n",
    "    theta_vel += total_force * time_step"
   ]
  },
  {
   "cell_type": "code",
   "execution_count": 198,
   "id": "f1d36527",
   "metadata": {},
   "outputs": [],
   "source": [
    "for idx, position in enumerate(positions):\n",
    "    sns.heatmap((1 / probs_map) < conformal_quantile, cbar=False, xticklabels=False, yticklabels=False)\n",
    "    plt.scatter((position[:,0] + 1) * 100, (position[:,1] + 1) * 100, s=10, color='red')\n",
    "    plt.savefig(f\"images/frame_{idx}.png\")\n",
    "    plt.clf()"
   ]
  },
  {
   "cell_type": "code",
   "execution_count": null,
   "id": "16a1a15b",
   "metadata": {},
   "outputs": [
    {
     "name": "stderr",
     "output_type": "stream",
     "text": [
      "/tmp/ipykernel_2044413/4118266928.py:6: DeprecationWarning: Starting with ImageIO v3 the behavior of this function will switch to that of iio.v3.imread. To keep the current behavior (and make this warning disappear) use `import imageio.v2 as imageio` or call `imageio.v2.imread` directly.\n",
      "  images.append(imageio.imread(f\"images/frame_{idx}.png\"))\n"
     ]
    }
   ],
   "source": [
    "import os\n",
    "import imageio\n",
    "\n",
    "images = []\n",
    "for idx in range(len(positions)):\n",
    "    images.append(imageio.imread(f\"images/frame_{idx}.png\"))\n",
    "imageio.mimsave('repulsion.gif', images)"
   ]
  },
  {
   "cell_type": "code",
   "execution_count": null,
   "id": "da03a9bd",
   "metadata": {},
   "outputs": [],
   "source": []
  }
 ],
 "metadata": {
  "kernelspec": {
   "display_name": "chig",
   "language": "python",
   "name": "python3"
  },
  "language_info": {
   "codemirror_mode": {
    "name": "ipython",
    "version": 3
   },
   "file_extension": ".py",
   "mimetype": "text/x-python",
   "name": "python",
   "nbconvert_exporter": "python",
   "pygments_lexer": "ipython3",
   "version": "3.10.12"
  },
  "vscode": {
   "interpreter": {
    "hash": "025fdf49e09ee838b0c05e971129fbc14df70fae1b22b06a04398c8d66c2f675"
   }
  }
 },
 "nbformat": 4,
 "nbformat_minor": 5
}
