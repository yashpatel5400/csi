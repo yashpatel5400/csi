{
 "cells": [
  {
   "cell_type": "code",
   "execution_count": 9,
   "metadata": {},
   "outputs": [],
   "source": [
    "import numpy as np\n",
    "import matplotlib.pyplot as plt\n",
    "import cvxpy as cp\n",
    "from rsome import ro\n",
    "from rsome import grb_solver as grb\n",
    "import rsome as rso\n",
    "import numpy as np"
   ]
  },
  {
   "cell_type": "code",
   "execution_count": 15,
   "metadata": {},
   "outputs": [],
   "source": [
    "# need to define following things\n",
    "# x: observed context\n",
    "# w in W: decision to be made\n",
    "# c: parameter of cost/utility function\n",
    "# f(c, w): cost/utility function\n",
    "\n",
    "# formulation: min_{w in W} f(c, w) \n",
    "# where {c in U(x)}\n",
    "\n",
    "# (x) 1. generate x\n",
    "# (x) 2. generate c = g(x)\n",
    "# (x) 3. choose a function f(c, w)\n",
    "# (*) 4. determine how to solve min_{w in W} f(c, w) for some simple choices of W: how to solve?\n",
    "# ( ) 5. produce a dataset {(c, x)}\n",
    "# ( ) 6. learn a predictor g^(x) = c\n",
    "# ( ) 7. conformalize g^(x) to produce C(x) regions\n",
    "# ( ) 8. solve min_{w in C(x)} f(c, w)\n",
    "\n",
    "# goal: determine allocation of items to buy (where utility of each is unknown)\n",
    "n = 20 # number of items\n",
    "d = 10 # dim of context to utility"
   ]
  },
  {
   "cell_type": "code",
   "execution_count": 46,
   "metadata": {},
   "outputs": [],
   "source": [
    "def g(x):\n",
    "    theta = np.random.randint(low=0, high=2, size=(n, d))\n",
    "    c = (theta @ x) ** 2\n",
    "    return c, (c * 4/5, c * 6/5) # lower, upper bounds for c\n",
    "\n",
    "x = np.random.uniform(low=0, high=4, size=(d)) # contextual observation\n",
    "c_mid, (c_lb, c_ub) = g(x)"
   ]
  },
  {
   "cell_type": "code",
   "execution_count": 47,
   "metadata": {},
   "outputs": [],
   "source": [
    "# w in [0, 1]^n such that p^T w < B\n",
    "p = np.random.randint(low=0, high=1000, size=n)\n",
    "u = np.random.uniform(low=0, high=1)\n",
    "B = np.random.uniform(np.max(p), np.sum(p) - u * np.max(p))"
   ]
  },
  {
   "cell_type": "code",
   "execution_count": 50,
   "metadata": {},
   "outputs": [
    {
     "name": "stdout",
     "output_type": "stream",
     "text": [
      "Being solved by Gurobi...\n"
     ]
    },
    {
     "name": "stdout",
     "output_type": "stream",
     "text": [
      "Solution status: 2\n",
      "Running time: 0.0006s\n"
     ]
    }
   ],
   "source": [
    "model = ro.Model()\n",
    "\n",
    "w = model.dvar(n)\n",
    "c = model.rvar(n)\n",
    "uset = (c_lb <= c, c <= c_ub)\n",
    "\n",
    "model.minmax(-c @ w, uset)\n",
    "# model.min(-c_mid @ w)\n",
    "model.st(w <= 1)\n",
    "model.st(w >= 0)\n",
    "model.st(p @ w <= B)\n",
    "\n",
    "model.solve(grb)\n",
    "rsome_result = w.get()"
   ]
  },
  {
   "cell_type": "code",
   "execution_count": 51,
   "metadata": {},
   "outputs": [
    {
     "data": {
      "text/plain": [
       "-544.3762849387068"
      ]
     },
     "execution_count": 51,
     "metadata": {},
     "output_type": "execute_result"
    }
   ],
   "source": [
    "model_val = model.get()"
   ]
  },
  {
   "cell_type": "code",
   "execution_count": null,
   "metadata": {},
   "outputs": [],
   "source": []
  }
 ],
 "metadata": {
  "kernelspec": {
   "display_name": "chig",
   "language": "python",
   "name": "python3"
  },
  "language_info": {
   "codemirror_mode": {
    "name": "ipython",
    "version": 3
   },
   "file_extension": ".py",
   "mimetype": "text/x-python",
   "name": "python",
   "nbconvert_exporter": "python",
   "pygments_lexer": "ipython3",
   "version": "3.8.16"
  },
  "orig_nbformat": 4
 },
 "nbformat": 4,
 "nbformat_minor": 2
}
