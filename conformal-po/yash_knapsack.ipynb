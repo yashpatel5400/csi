{
 "cells": [
  {
   "cell_type": "code",
   "execution_count": 80,
   "metadata": {},
   "outputs": [],
   "source": [
    "import numpy as np\n",
    "import matplotlib.pyplot as plt\n",
    "import cvxpy as cp\n",
    "from rsome import ro\n",
    "from rsome import grb_solver as grb\n",
    "import rsome as rso\n",
    "import numpy as np"
   ]
  },
  {
   "cell_type": "code",
   "execution_count": 81,
   "metadata": {},
   "outputs": [],
   "source": [
    "plt.rcParams['mathtext.fontset'] = 'stix'\n",
    "plt.rcParams['font.family'] = 'STIXGeneral'\n",
    "\n",
    "SMALL_SIZE = 12\n",
    "MEDIUM_SIZE = 14\n",
    "BIGGER_SIZE = 18\n",
    "\n",
    "plt.rc('font', size=BIGGER_SIZE)          # controls default text sizes\n",
    "plt.rc('axes', titlesize=BIGGER_SIZE)     # fontsize of the axes title\n",
    "plt.rc('axes', labelsize=BIGGER_SIZE)    # fontsize of the x and y labels\n",
    "plt.rc('xtick', labelsize=BIGGER_SIZE)    # fontsize of the tick labels\n",
    "plt.rc('ytick', labelsize=BIGGER_SIZE)    # fontsize of the tick labels\n",
    "plt.rc('legend', fontsize=BIGGER_SIZE)    # legend fontsize\n",
    "plt.rc('figure', titlesize=BIGGER_SIZE)  # fontsize of the figure title"
   ]
  },
  {
   "cell_type": "code",
   "execution_count": 58,
   "metadata": {},
   "outputs": [],
   "source": [
    "# need to define following things\n",
    "# x: observed context\n",
    "# w in W: decision to be made\n",
    "# c: parameter of cost/utility function\n",
    "# f(c, w): cost/utility function\n",
    "\n",
    "# formulation: min_{w in W} f(c, w) \n",
    "# where {c in U(x)}\n",
    "\n",
    "# (x) 1. generate x\n",
    "# (x) 2. generate c = g(x)\n",
    "# (x) 3. choose a function f(c, w)\n",
    "# (*) 4. determine how to solve min_{w in W} f(c, w) for some simple choices of W: how to solve?\n",
    "# ( ) 5. produce a dataset {(c, x)}\n",
    "# ( ) 6. learn a predictor g^(x) = c\n",
    "# ( ) 7. conformalize g^(x) to produce C(x) regions\n",
    "# ( ) 8. solve min_{w in C(x)} f(c, w)\n",
    "\n",
    "# goal: determine allocation of items to buy (where utility of each is unknown)\n",
    "n = 20 # number of items\n",
    "d = 10 # dim of context to utility"
   ]
  },
  {
   "cell_type": "code",
   "execution_count": 68,
   "metadata": {},
   "outputs": [],
   "source": [
    "def g(x):\n",
    "    theta = np.random.randint(low=0, high=2, size=(n, d))\n",
    "    c = (theta @ x) ** 2\n",
    "    return c"
   ]
  },
  {
   "cell_type": "code",
   "execution_count": 75,
   "metadata": {},
   "outputs": [],
   "source": [
    "def nonrob_solve(c_hat, p, B):\n",
    "    model = ro.Model()\n",
    "\n",
    "    w = model.dvar(n)\n",
    "    model.min(-c_hat @ w)\n",
    "    model.st(w <= 1)\n",
    "    model.st(w >= 0)\n",
    "    model.st(p @ w <= B)\n",
    "\n",
    "    model.solve(grb)\n",
    "    return model.get()"
   ]
  },
  {
   "cell_type": "code",
   "execution_count": 76,
   "metadata": {},
   "outputs": [],
   "source": [
    "def box_solve(c_hat, p, B):\n",
    "    model = ro.Model()\n",
    "\n",
    "    w = model.dvar(n)\n",
    "    c = model.rvar(n)\n",
    "    uset = (c_hat * 4/5 <= c, c <= c_hat * 6/5)\n",
    "\n",
    "    model.minmax(-c @ w, uset)\n",
    "    model.st(w <= 1)\n",
    "    model.st(w >= 0)\n",
    "    model.st(p @ w <= B)\n",
    "\n",
    "    model.solve(grb)\n",
    "    return model.get()"
   ]
  },
  {
   "cell_type": "code",
   "execution_count": 104,
   "metadata": {},
   "outputs": [],
   "source": [
    "def ellipsoid_solve(c_hat, p, B):\n",
    "    model = ro.Model()\n",
    "\n",
    "    w = model.dvar(n)\n",
    "    c = model.rvar(n)\n",
    "    uset = rso.norm(c - c_hat, 2) <= 100\n",
    "\n",
    "    model.minmax(-c @ w, uset)\n",
    "    model.st(w <= 1)\n",
    "    model.st(w >= 0)\n",
    "    model.st(p @ w <= B)\n",
    "\n",
    "    model.solve(grb)\n",
    "    return model.get()"
   ]
  },
  {
   "cell_type": "code",
   "execution_count": 105,
   "metadata": {},
   "outputs": [],
   "source": [
    "def trial():\n",
    "    x = np.random.uniform(low=0, high=4, size=(d)) # contextual observation\n",
    "    c_hat = g(x)\n",
    "\n",
    "    p = np.random.randint(low=0, high=1000, size=n)\n",
    "    u = np.random.uniform(low=0, high=1)\n",
    "    B = np.random.uniform(np.max(p), np.sum(p) - u * np.max(p))\n",
    "\n",
    "    nonrob = nonrob_solve(c_hat, p, B)\n",
    "    box = box_solve(c_hat, p, B)\n",
    "    ellipsoid = ellipsoid_solve(c_hat, p, B)\n",
    "    \n",
    "    return (nonrob, box, ellipsoid)"
   ]
  },
  {
   "cell_type": "code",
   "execution_count": 106,
   "metadata": {},
   "outputs": [
    {
     "name": "stdout",
     "output_type": "stream",
     "text": [
      "Being solved by Gurobi...\n"
     ]
    },
    {
     "name": "stdout",
     "output_type": "stream",
     "text": [
      "Solution status: 2\n",
      "Running time: 0.0012s\n",
      "Being solved by Gurobi...\n",
      "Solution status: 2\n",
      "Running time: 0.0009s\n",
      "Being solved by Gurobi...\n",
      "Solution status: 2\n",
      "Running time: 0.0026s\n",
      "Being solved by Gurobi...\n",
      "Solution status: 2\n",
      "Running time: 0.0004s\n",
      "Being solved by Gurobi...\n",
      "Solution status: 2\n",
      "Running time: 0.0006s\n",
      "Being solved by Gurobi...\n",
      "Solution status: 2\n",
      "Running time: 0.0019s\n",
      "Being solved by Gurobi...\n",
      "Solution status: 2\n",
      "Running time: 0.0005s\n",
      "Being solved by Gurobi...\n",
      "Solution status: 2\n",
      "Running time: 0.0006s\n",
      "Being solved by Gurobi...\n",
      "Solution status: 2\n",
      "Running time: 0.0021s\n",
      "Being solved by Gurobi...\n",
      "Solution status: 2\n",
      "Running time: 0.0005s\n",
      "Being solved by Gurobi...\n",
      "Solution status: 2\n",
      "Running time: 0.0006s\n",
      "Being solved by Gurobi...\n",
      "Solution status: 2\n",
      "Running time: 0.0020s\n",
      "Being solved by Gurobi...\n",
      "Solution status: 2\n",
      "Running time: 0.0006s\n",
      "Being solved by Gurobi...\n",
      "Solution status: 2\n",
      "Running time: 0.0006s\n",
      "Being solved by Gurobi...\n",
      "Solution status: 2\n",
      "Running time: 0.0021s\n",
      "Being solved by Gurobi...\n",
      "Solution status: 2\n",
      "Running time: 0.0006s\n",
      "Being solved by Gurobi...\n",
      "Solution status: 2\n",
      "Running time: 0.0007s\n",
      "Being solved by Gurobi...\n",
      "Solution status: 2\n",
      "Running time: 0.0019s\n",
      "Being solved by Gurobi...\n",
      "Solution status: 2\n",
      "Running time: 0.0005s\n",
      "Being solved by Gurobi...\n",
      "Solution status: 2\n",
      "Running time: 0.0006s\n",
      "Being solved by Gurobi...\n",
      "Solution status: 2\n",
      "Running time: 0.0017s\n",
      "Being solved by Gurobi...\n",
      "Solution status: 2\n",
      "Running time: 0.0004s\n",
      "Being solved by Gurobi...\n",
      "Solution status: 2\n",
      "Running time: 0.0006s\n",
      "Being solved by Gurobi...\n",
      "Solution status: 2\n",
      "Running time: 0.0020s\n",
      "Being solved by Gurobi...\n",
      "Solution status: 2\n",
      "Running time: 0.0004s\n",
      "Being solved by Gurobi...\n",
      "Solution status: 2\n",
      "Running time: 0.0006s\n",
      "Being solved by Gurobi...\n",
      "Solution status: 2\n",
      "Running time: 0.0020s\n",
      "Being solved by Gurobi...\n",
      "Solution status: 2\n",
      "Running time: 0.0005s\n",
      "Being solved by Gurobi...\n",
      "Solution status: 2\n",
      "Running time: 0.0006s\n",
      "Being solved by Gurobi...\n",
      "Solution status: 2\n",
      "Running time: 0.0018s\n"
     ]
    }
   ],
   "source": [
    "nonrobs, boxes, ellipsoids = [], [], []\n",
    "\n",
    "n_trials = 10\n",
    "for _ in range(n_trials):\n",
    "    nonrob, box, ellipsoid = trial()\n",
    "    nonrobs.append(nonrob)\n",
    "    boxes.append(box)\n",
    "    ellipsoids.append(ellipsoid)\n",
    "\n",
    "nonrobs, boxes, ellipsoids = np.array(nonrobs), np.array(boxes), np.array(ellipsoids)"
   ]
  },
  {
   "cell_type": "code",
   "execution_count": 107,
   "metadata": {},
   "outputs": [
    {
     "data": {
      "image/png": "[encoded data removed]",
      "text/plain": [
       "<Figure size 640x480 with 1 Axes>"
      ]
     },
     "metadata": {},
     "output_type": "display_data"
    }
   ],
   "source": [
    "# Create lists for the plot\n",
    "setups = ['Unconstrained', 'Box', 'Ellipsoid']\n",
    "x_pos = np.arange(len(setups))\n",
    "setup_results = [nonrobs, boxes, ellipsoids]\n",
    "\n",
    "means = [np.mean(setup_result) for setup_result in setup_results]\n",
    "stds = [np.std(setup_result) for setup_result in setup_results]\n",
    "\n",
    "fig, ax = plt.subplots()\n",
    "ax.bar(x_pos, means, yerr=stds, align='center', alpha=0.5, ecolor='black', capsize=10)\n",
    "ax.set_ylabel(r\"$\\mathrm{VaR}_{\\alpha}[c^{T} w\\mid x]$\")\n",
    "ax.set_xticks(x_pos)\n",
    "ax.set_xticklabels(setups)\n",
    "ax.yaxis.grid(True)"
   ]
  },
  {
   "cell_type": "code",
   "execution_count": null,
   "metadata": {},
   "outputs": [],
   "source": []
  }
 ],
 "metadata": {
  "kernelspec": {
   "display_name": "chig",
   "language": "python",
   "name": "python3"
  },
  "language_info": {
   "codemirror_mode": {
    "name": "ipython",
    "version": 3
   },
   "file_extension": ".py",
   "mimetype": "text/x-python",
   "name": "python",
   "nbconvert_exporter": "python",
   "pygments_lexer": "ipython3",
   "version": "3.8.16"
  },
  "orig_nbformat": 4
 },
 "nbformat": 4,
 "nbformat_minor": 2
}
