{
 "cells": [
  {
   "cell_type": "code",
   "execution_count": 4,
   "metadata": {},
   "outputs": [],
   "source": [
    "import torch\n",
    "import pandas as pd\n",
    "import numpy as np\n",
    "import matplotlib.pyplot as plt\n",
    "from rsome import ro \n",
    "import rsome as rso                           # import the ro module\n",
    "from rsome import grb_solver as grb\n",
    "from torch.utils.data import DataLoader, TensorDataset\n",
    "import sbibm\n",
    "import model"
   ]
  },
  {
   "cell_type": "code",
   "execution_count": 5,
   "metadata": {},
   "outputs": [],
   "source": [
    "import networkx as nx\n",
    "\n",
    "G = nx.grid_2d_graph(100, 100).to_directed()\n",
    "A = nx.incidence_matrix(G, oriented=True).todense()"
   ]
  },
  {
   "cell_type": "code",
   "execution_count": 6,
   "metadata": {},
   "outputs": [],
   "source": [
    "weights = {e : np.random.random() for e in G.edges}\n",
    "nx.set_edge_attributes(G, weights, name = 'weight')"
   ]
  },
  {
   "cell_type": "code",
   "execution_count": 7,
   "metadata": {},
   "outputs": [],
   "source": [
    "b = np.zeros(len(G.nodes)) # b entries: 1 for source, -1 for target, 0 o.w.\n",
    "b[0] = -1\n",
    "b[-1] = 1 "
   ]
  },
  {
   "cell_type": "code",
   "execution_count": 8,
   "metadata": {},
   "outputs": [
    {
     "ename": "KeyboardInterrupt",
     "evalue": "",
     "output_type": "error",
     "traceback": [
      "\u001b[0;31m---------------------------------------------------------------------------\u001b[0m",
      "\u001b[0;31mKeyboardInterrupt\u001b[0m                         Traceback (most recent call last)",
      "\u001b[1;32m/home/yppatel/csi/conformal-po/shortest_paths.ipynb Cell 5\u001b[0m line \u001b[0;36m1\n\u001b[1;32m      <a href='vscode-notebook-cell://ssh-remote%2Bdeeplearning-01.stat.lsa.umich.edu/home/yppatel/csi/conformal-po/shortest_paths.ipynb#W4sdnNjb2RlLXJlbW90ZQ%3D%3D?line=7'>8</a>\u001b[0m c \u001b[39m=\u001b[39m model\u001b[39m.\u001b[39mrvar(\u001b[39mlen\u001b[39m(G\u001b[39m.\u001b[39medges))\n\u001b[1;32m      <a href='vscode-notebook-cell://ssh-remote%2Bdeeplearning-01.stat.lsa.umich.edu/home/yppatel/csi/conformal-po/shortest_paths.ipynb#W4sdnNjb2RlLXJlbW90ZQ%3D%3D?line=8'>9</a>\u001b[0m cset \u001b[39m=\u001b[39m (c_lb \u001b[39m<\u001b[39m\u001b[39m=\u001b[39m c, c \u001b[39m<\u001b[39m\u001b[39m=\u001b[39m c_ub)\n\u001b[0;32m---> <a href='vscode-notebook-cell://ssh-remote%2Bdeeplearning-01.stat.lsa.umich.edu/home/yppatel/csi/conformal-po/shortest_paths.ipynb#W4sdnNjb2RlLXJlbW90ZQ%3D%3D?line=10'>11</a>\u001b[0m model\u001b[39m.\u001b[39mmin(c \u001b[39m@\u001b[39;49m w)\n\u001b[1;32m     <a href='vscode-notebook-cell://ssh-remote%2Bdeeplearning-01.stat.lsa.umich.edu/home/yppatel/csi/conformal-po/shortest_paths.ipynb#W4sdnNjb2RlLXJlbW90ZQ%3D%3D?line=11'>12</a>\u001b[0m model\u001b[39m.\u001b[39mst(w \u001b[39m<\u001b[39m\u001b[39m=\u001b[39m \u001b[39m1\u001b[39m)\n\u001b[1;32m     <a href='vscode-notebook-cell://ssh-remote%2Bdeeplearning-01.stat.lsa.umich.edu/home/yppatel/csi/conformal-po/shortest_paths.ipynb#W4sdnNjb2RlLXJlbW90ZQ%3D%3D?line=12'>13</a>\u001b[0m model\u001b[39m.\u001b[39mst(w \u001b[39m>\u001b[39m\u001b[39m=\u001b[39m \u001b[39m0\u001b[39m)\n",
      "File \u001b[0;32m~/anaconda3/envs/chig/lib/python3.8/site-packages/rsome/lp.py:1052\u001b[0m, in \u001b[0;36mVars.__matmul__\u001b[0;34m(self, other)\u001b[0m\n\u001b[1;32m   1050\u001b[0m \u001b[39mdef\u001b[39;00m \u001b[39m__matmul__\u001b[39m(\u001b[39mself\u001b[39m, other):\n\u001b[0;32m-> 1052\u001b[0m     \u001b[39mreturn\u001b[39;00m \u001b[39mself\u001b[39;49m\u001b[39m.\u001b[39;49mto_affine() \u001b[39m@\u001b[39;49m other\n",
      "File \u001b[0;32m~/anaconda3/envs/chig/lib/python3.8/site-packages/rsome/lp.py:1819\u001b[0m, in \u001b[0;36mAffine.__matmul__\u001b[0;34m(self, other)\u001b[0m\n\u001b[1;32m   1815\u001b[0m csr_temp \u001b[39m=\u001b[39m csr_matrix((np\u001b[39m.\u001b[39mones(\u001b[39mlen\u001b[39m(col_ind)),\n\u001b[1;32m   1816\u001b[0m                        (row_ind, col_ind)),\n\u001b[1;32m   1817\u001b[0m                       shape\u001b[39m=\u001b[39m(temp\u001b[39m.\u001b[39msize\u001b[39m*\u001b[39m\u001b[39mself\u001b[39m\u001b[39m.\u001b[39msize, other\u001b[39m.\u001b[39msize))\n\u001b[1;32m   1818\u001b[0m other_flat \u001b[39m=\u001b[39m other\u001b[39m.\u001b[39mreshape(other\u001b[39m.\u001b[39msize)\n\u001b[0;32m-> 1819\u001b[0m affine_temp \u001b[39m=\u001b[39m (csr_temp \u001b[39m@\u001b[39;49m other_flat)\u001b[39m.\u001b[39mreshape((temp\u001b[39m.\u001b[39msize,\n\u001b[1;32m   1820\u001b[0m                                                \u001b[39mself\u001b[39m\u001b[39m.\u001b[39msize))\n\u001b[1;32m   1821\u001b[0m raffine \u001b[39m=\u001b[39m affine_temp \u001b[39m@\u001b[39m \u001b[39mself\u001b[39m\u001b[39m.\u001b[39mlinear[:, :num_rand]\n\u001b[1;32m   1823\u001b[0m roaffine \u001b[39m=\u001b[39m RoAffine(raffine, affine, \u001b[39mself\u001b[39m\u001b[39m.\u001b[39mmodel)\n",
      "File \u001b[0;32m~/anaconda3/envs/chig/lib/python3.8/site-packages/rsome/lp.py:1843\u001b[0m, in \u001b[0;36mAffine.__rmatmul__\u001b[0;34m(self, other)\u001b[0m\n\u001b[1;32m   1841\u001b[0m \u001b[39mdef\u001b[39;00m \u001b[39m__rmatmul__\u001b[39m(\u001b[39mself\u001b[39m, other):\n\u001b[0;32m-> 1843\u001b[0m     other \u001b[39m=\u001b[39m check_numeric(other)\n\u001b[1;32m   1845\u001b[0m     new_const \u001b[39m=\u001b[39m other \u001b[39m@\u001b[39m \u001b[39mself\u001b[39m\u001b[39m.\u001b[39mconst\n\u001b[1;32m   1846\u001b[0m     new_linear \u001b[39m=\u001b[39m sp_matmul(other, \u001b[39mself\u001b[39m, new_const\u001b[39m.\u001b[39mshape) \u001b[39m@\u001b[39m \u001b[39mself\u001b[39m\u001b[39m.\u001b[39mlinear\n",
      "File \u001b[0;32m~/anaconda3/envs/chig/lib/python3.8/site-packages/rsome/subroutines.py:188\u001b[0m, in \u001b[0;36mcheck_numeric\u001b[0;34m(array)\u001b[0m\n\u001b[1;32m    186\u001b[0m \u001b[39mdef\u001b[39;00m \u001b[39mcheck_numeric\u001b[39m(array):\n\u001b[0;32m--> 188\u001b[0m     array \u001b[39m=\u001b[39m np\u001b[39m.\u001b[39;49marray(array\u001b[39m.\u001b[39;49mtodense()) \u001b[39mif\u001b[39;00m sp\u001b[39m.\u001b[39missparse(array) \u001b[39melse\u001b[39;00m array\n\u001b[1;32m    189\u001b[0m     \u001b[39m# array = np.array([array]) if not isinstance(array, np.ndarray) else array\u001b[39;00m\n\u001b[1;32m    191\u001b[0m     \u001b[39mif\u001b[39;00m \u001b[39misinstance\u001b[39m(array, np\u001b[39m.\u001b[39mndarray):\n",
      "\u001b[0;31mKeyboardInterrupt\u001b[0m: "
     ]
    }
   ],
   "source": [
    "model = ro.Model()\n",
    "\n",
    "w = model.dvar(len(G.edges))\n",
    "c = np.array(list(nx.get_edge_attributes(G, name = 'weight').values()))\n",
    "\n",
    "model.min(c @ w)\n",
    "model.st(w <= 1)\n",
    "model.st(w >= 0)\n",
    "model.st(A @ w == b)\n",
    "\n",
    "model.solve(grb)"
   ]
  },
  {
   "cell_type": "code",
   "execution_count": null,
   "metadata": {},
   "outputs": [
    {
     "name": "stdout",
     "output_type": "stream",
     "text": [
      "nx_path_length = 2.7237250949518312\n",
      "lp_path_length = 8.0\n"
     ]
    }
   ],
   "source": [
    "print(f\"robust_path_length = {model.get()}\")"
   ]
  },
  {
   "cell_type": "code",
   "execution_count": null,
   "metadata": {},
   "outputs": [],
   "source": []
  }
 ],
 "metadata": {
  "kernelspec": {
   "display_name": "genIP",
   "language": "python",
   "name": "python3"
  },
  "language_info": {
   "codemirror_mode": {
    "name": "ipython",
    "version": 3
   },
   "file_extension": ".py",
   "mimetype": "text/x-python",
   "name": "python",
   "nbconvert_exporter": "python",
   "pygments_lexer": "ipython3",
   "version": "3.8.16"
  },
  "orig_nbformat": 4
 },
 "nbformat": 4,
 "nbformat_minor": 2
}
