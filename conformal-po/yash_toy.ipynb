{
 "cells": [
  {
   "cell_type": "code",
   "execution_count": 1,
   "metadata": {},
   "outputs": [],
   "source": [
    "import numpy as np\n",
    "import matplotlib.pyplot as plt\n",
    "import cvxpy as cp"
   ]
  },
  {
   "cell_type": "code",
   "execution_count": 2,
   "metadata": {},
   "outputs": [],
   "source": [
    "# need to define following things\n",
    "# x: observed context\n",
    "# w in W: decision to be made\n",
    "# c: parameter of cost/utility function\n",
    "# f(c, w): cost/utility function\n",
    "\n",
    "# formulation: min_{w in W} f(c, w) \n",
    "# where {c in U(x)}\n",
    "\n",
    "# (x) 1. generate x\n",
    "# (x) 2. generate c = g(x)\n",
    "# (x) 3. choose a function f(c, w)\n",
    "# (*) 4. determine how to solve min_{w in W} f(c, w) for some simple choices of W: how to solve?\n",
    "# ( ) 5. produce a dataset {(c, x)}\n",
    "# ( ) 6. learn a predictor g^(x) = c\n",
    "# ( ) 7. conformalize g^(x) to produce C(x) regions\n",
    "# ( ) 8. solve min_{w in C(x)} f(c, w)\n",
    "\n",
    "# goal: determine allocation of items to buy (where utility of each is unknown)\n",
    "n = 20 # number of items\n",
    "d = 10 # dim of context to utility"
   ]
  },
  {
   "cell_type": "code",
   "execution_count": 3,
   "metadata": {},
   "outputs": [],
   "source": [
    "def g(x):\n",
    "    theta = np.random.randint(low=0, high=2, size=(n, d))\n",
    "    eps = np.random.uniform(low=4/5, high=6/5, size=(n))\n",
    "    c = (theta @ x) ** 2 * eps\n",
    "    return c\n",
    "\n",
    "x = np.random.uniform(low=0, high=4, size=(d)) # contextual observation\n",
    "c = g(x)"
   ]
  },
  {
   "cell_type": "code",
   "execution_count": 4,
   "metadata": {},
   "outputs": [],
   "source": [
    "# w in [0, 1]^n such that p^T w < B\n",
    "p = np.random.randint(low=0, high=1000, size=n)\n",
    "u = np.random.uniform(low=0, high=1)\n",
    "B = np.random.uniform(np.max(p), np.sum(p) - u * np.max(p))"
   ]
  },
  {
   "cell_type": "code",
   "execution_count": 5,
   "metadata": {},
   "outputs": [],
   "source": [
    "# Construct the problem.\n",
    "w = cp.Variable(n)\n",
    "objective = cp.Minimize(-c @ w)\n",
    "constraints = [0 <= w, w <= 1, p @ w <= B]\n",
    "prob = cp.Problem(objective, constraints)\n",
    "result = prob.solve()"
   ]
  },
  {
   "cell_type": "code",
   "execution_count": 9,
   "metadata": {},
   "outputs": [
    {
     "data": {
      "text/plain": [
       "array([0.        , 0.        , 0.        , 0.        , 0.        ,\n",
       "       0.        , 0.        , 0.35468786, 1.        , 0.        ,\n",
       "       1.        , 1.        , 0.        , 0.        , 0.        ,\n",
       "       1.        , 1.        , 1.        , 0.        , 1.        ])"
      ]
     },
     "execution_count": 9,
     "metadata": {},
     "output_type": "execute_result"
    }
   ],
   "source": [
    "tol = 0.0001\n",
    "w_val = w.value\n",
    "w_val[w_val < tol] = 0\n",
    "w_val"
   ]
  },
  {
   "cell_type": "code",
   "execution_count": null,
   "metadata": {},
   "outputs": [],
   "source": [
    "# now want to convert this to a robust problem, i.e. c can take on any value in a specified set"
   ]
  }
 ],
 "metadata": {
  "kernelspec": {
   "display_name": "chig",
   "language": "python",
   "name": "python3"
  },
  "language_info": {
   "codemirror_mode": {
    "name": "ipython",
    "version": 3
   },
   "file_extension": ".py",
   "mimetype": "text/x-python",
   "name": "python",
   "nbconvert_exporter": "python",
   "pygments_lexer": "ipython3",
   "version": "3.8.16"
  },
  "orig_nbformat": 4
 },
 "nbformat": 4,
 "nbformat_minor": 2
}
