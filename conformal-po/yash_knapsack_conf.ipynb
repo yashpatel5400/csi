{
 "cells": [
  {
   "cell_type": "code",
   "execution_count": 1,
   "metadata": {},
   "outputs": [],
   "source": [
    "import numpy as np\n",
    "import matplotlib.pyplot as plt\n",
    "import cvxpy as cp\n",
    "from rsome import ro\n",
    "from rsome import grb_solver as grb\n",
    "import rsome as rso\n",
    "import numpy as np\n",
    "\n",
    "import torch\n",
    "from torch import nn\n",
    "import torch.optim as optim\n",
    "from torch.utils.data import DataLoader, TensorDataset\n",
    "\n",
    "import pandas as pd"
   ]
  },
  {
   "cell_type": "code",
   "execution_count": 2,
   "metadata": {},
   "outputs": [],
   "source": [
    "plt.rcParams['mathtext.fontset'] = 'stix'\n",
    "plt.rcParams['font.family'] = 'STIXGeneral'\n",
    "\n",
    "SMALL_SIZE = 12\n",
    "MEDIUM_SIZE = 14\n",
    "BIGGER_SIZE = 18\n",
    "\n",
    "plt.rc('font', size=BIGGER_SIZE)          # controls default text sizes\n",
    "plt.rc('axes', titlesize=BIGGER_SIZE)     # fontsize of the axes title\n",
    "plt.rc('axes', labelsize=BIGGER_SIZE)    # fontsize of the x and y labels\n",
    "plt.rc('xtick', labelsize=BIGGER_SIZE)    # fontsize of the tick labels\n",
    "plt.rc('ytick', labelsize=BIGGER_SIZE)    # fontsize of the tick labels\n",
    "plt.rc('legend', fontsize=BIGGER_SIZE)    # legend fontsize\n",
    "plt.rc('figure', titlesize=BIGGER_SIZE)  # fontsize of the figure title"
   ]
  },
  {
   "cell_type": "code",
   "execution_count": 3,
   "metadata": {},
   "outputs": [],
   "source": [
    "n = 20 # number of items (c in R^n)\n",
    "d = 10 # dim of context to utility (x in R^d)"
   ]
  },
  {
   "cell_type": "code",
   "execution_count": 4,
   "metadata": {},
   "outputs": [],
   "source": [
    "theta = np.random.randint(low=0, high=2, size=(d, n)) # theta has to be globally fixed to ensure exchangeability\n",
    "\n",
    "def g(x):\n",
    "    c = (x @ theta) ** 2\n",
    "    return c"
   ]
  },
  {
   "cell_type": "code",
   "execution_count": 12,
   "metadata": {},
   "outputs": [],
   "source": [
    "N = 2_000\n",
    "N_train = 1000\n",
    "N_test  = 1000\n",
    "\n",
    "x_dataset = np.random.uniform(low=0, high=4, size=(N, d))\n",
    "c_dataset = g(x_dataset) * np.random.uniform(low=4/5, high=6/5, size=(N, n))\n",
    "\n",
    "device = (\"cuda\" if torch.cuda.is_available() else \"cpu\")\n",
    "to_tensor = lambda r : torch.tensor(r).to(torch.float32).to(device)\n",
    "x_train, x_cal = to_tensor(x_dataset[:N_train]), to_tensor(x_dataset[N_train:])\n",
    "c_train, c_cal = to_tensor(c_dataset[:N_train]), to_tensor(c_dataset[N_train:])\n",
    "\n",
    "x_test = np.random.uniform(low=0, high=4, size=(N_test, d))\n",
    "c_test = g(x_test) * np.random.uniform(low=4/5, high=6/5, size=(N_test, n))"
   ]
  },
  {
   "cell_type": "code",
   "execution_count": 13,
   "metadata": {},
   "outputs": [],
   "source": [
    "train_dataset = TensorDataset(x_train, c_train)\n",
    "train_loader = DataLoader(train_dataset, batch_size=64, shuffle=True)"
   ]
  },
  {
   "cell_type": "code",
   "execution_count": 14,
   "metadata": {},
   "outputs": [],
   "source": [
    "import torch\n",
    "import torch.nn as nn\n",
    "import torch.optim as optim\n",
    "from torch.utils.data import DataLoader, TensorDataset\n",
    "import numpy as np\n",
    "\n",
    "class FeedforwardNN(nn.Module):\n",
    "    def __init__(self, input_dim, output_dim, hidden_dim=64):\n",
    "        super(FeedforwardNN, self).__init__()\n",
    "        self.fc1 = nn.Linear(input_dim, hidden_dim)\n",
    "        self.relu = nn.ReLU()\n",
    "        self.fc2 = nn.Linear(hidden_dim, output_dim)\n",
    "\n",
    "    def forward(self, x):\n",
    "        x = self.fc1(x)\n",
    "        x = self.relu(x)\n",
    "        x = self.fc2(x)\n",
    "        return x"
   ]
  },
  {
   "cell_type": "code",
   "execution_count": 15,
   "metadata": {},
   "outputs": [
    {
     "name": "stdout",
     "output_type": "stream",
     "text": [
      "Epoch [1/1000], Loss: 26955.0449\n",
      "Epoch [101/1000], Loss: 2078.3601\n",
      "Epoch [201/1000], Loss: 1308.6206\n",
      "Epoch [301/1000], Loss: 737.9594\n",
      "Epoch [401/1000], Loss: 419.3353\n",
      "Epoch [501/1000], Loss: 460.1890\n",
      "Epoch [601/1000], Loss: 355.9471\n",
      "Epoch [701/1000], Loss: 280.1278\n",
      "Epoch [801/1000], Loss: 324.3944\n",
      "Epoch [901/1000], Loss: 294.9506\n"
     ]
    }
   ],
   "source": [
    "model = FeedforwardNN(input_dim=d, output_dim=n).to(device)\n",
    "criterion = nn.MSELoss()\n",
    "optimizer = optim.Adam(model.parameters(), lr=0.001)\n",
    "\n",
    "num_epochs = 1_000\n",
    "\n",
    "for epoch in range(num_epochs):\n",
    "    for batch_X, batch_y in train_loader:\n",
    "        optimizer.zero_grad()  # Zero the gradients\n",
    "        outputs = model(batch_X)  # Forward pass\n",
    "        loss = criterion(outputs, batch_y)  # Compute the loss\n",
    "        loss.backward()  # Backpropagation\n",
    "        optimizer.step()  # Update weights\n",
    "\n",
    "    if epoch % 100 == 0:\n",
    "        print(f'Epoch [{epoch+1}/{num_epochs}], Loss: {loss.item():.4f}')"
   ]
  },
  {
   "cell_type": "code",
   "execution_count": 43,
   "metadata": {},
   "outputs": [],
   "source": [
    "def box_solve_generic(c_box_lb, c_box_ub, c_true, p, B):\n",
    "    covered = int(np.all(c_box_lb <= c_true) and np.all(c_true <= c_box_ub))\n",
    "\n",
    "    # perform RO over constraint region\n",
    "    model = ro.Model()\n",
    "\n",
    "    w = model.dvar(n)\n",
    "    c = model.rvar(n)\n",
    "    uset = (c_box_lb <= c, c <= c_box_ub)\n",
    "\n",
    "    model.minmax(-c @ w, uset)\n",
    "    model.st(w <= 1)\n",
    "    model.st(w >= 0)\n",
    "    model.st(p @ w <= B)\n",
    "\n",
    "    model.solve(grb)\n",
    "    return covered, model.get()"
   ]
  },
  {
   "cell_type": "code",
   "execution_count": 44,
   "metadata": {},
   "outputs": [],
   "source": [
    "# *marginal* box constraint (i.e. just ignore contextual information)\n",
    "def box_solve_marg(alpha, x, c_true, p, B):\n",
    "    alpha = alpha / 20\n",
    "    c_box_lb = np.quantile(c_dataset, q=(alpha / 2), axis=0)\n",
    "    c_box_ub = np.quantile(c_dataset, q=(1 - alpha / 2), axis=0)\n",
    "    return box_solve_generic(c_box_lb, c_box_ub, c_true, p, B)"
   ]
  },
  {
   "cell_type": "code",
   "execution_count": 45,
   "metadata": {},
   "outputs": [],
   "source": [
    "# *conditional* box conformal constraint (PTC-B)\n",
    "def box_solve_cp(alpha, x, c_true, p, B):\n",
    "    c_pred = model(x_cal)\n",
    "    box_cal_scores = np.linalg.norm((c_pred - c_cal).detach().cpu().numpy(), np.inf, axis=1)\n",
    "    conformal_quantile = np.quantile(box_cal_scores, q=1 - alpha, axis=0)\n",
    "\n",
    "    c_box_hat = model(to_tensor(x)).detach().cpu().numpy()\n",
    "    c_box_lb = c_box_hat - conformal_quantile\n",
    "    c_box_ub = c_box_hat + conformal_quantile\n",
    "    return box_solve_generic(c_box_lb, c_box_ub, c_true, p, B)"
   ]
  },
  {
   "cell_type": "code",
   "execution_count": 46,
   "metadata": {},
   "outputs": [],
   "source": [
    "from scipy.stats._continuous_distns import chi2\n",
    "\n",
    "mu = np.mean(c_dataset, axis=0)\n",
    "cov = np.cov(c_dataset.T)\n",
    "sqrt_cov_inv = np.linalg.cholesky(np.linalg.inv(cov))\n",
    "mah_dists = np.linalg.norm((c_dataset - mu) @ sqrt_cov_inv, axis=1)\n",
    "\n",
    "# *marginal* ellipsoid constraint\n",
    "def ellipsoid_solve_marg(alpha, x, c_true, p, B):\n",
    "    # perform RO over constraint region\n",
    "    model = ro.Model()\n",
    "\n",
    "    w = model.dvar(n)\n",
    "    c = model.rvar(n)\n",
    "\n",
    "    cutoff = np.quantile(mah_dists, q=1 - alpha)\n",
    "    uset = rso.norm((c - mu).T @ sqrt_cov_inv, 2) <= cutoff\n",
    "    covered = int(np.linalg.norm((c_true - mu).T @ sqrt_cov_inv) <= cutoff)\n",
    "\n",
    "    model.minmax(-c @ w, uset)\n",
    "    model.st(w <= 1)\n",
    "    model.st(w >= 0)\n",
    "    model.st(p @ w <= B)\n",
    "\n",
    "    model.solve(grb)\n",
    "    return covered, model.get()"
   ]
  },
  {
   "cell_type": "code",
   "execution_count": 47,
   "metadata": {},
   "outputs": [],
   "source": [
    "def trial(alpha, idx):\n",
    "    x = x_test[idx]\n",
    "    c_true = c_test[idx]\n",
    "\n",
    "    p = np.random.randint(low=0, high=1000, size=n)\n",
    "    u = np.random.uniform(low=0, high=1)\n",
    "    B = np.random.uniform(np.max(p), np.sum(p) - u * np.max(p))\n",
    "\n",
    "    marg_box_covered, marg_box_value = box_solve_marg(alpha, x, c_true, p, B)\n",
    "    cp_box_covered, cp_box_value = box_solve_cp(alpha, x, c_true, p, B)\n",
    "    marg_ellipsoid_covered, marg_ellipsoid_value = ellipsoid_solve_marg(alpha, x, c_true, p, B)\n",
    "    return (marg_box_covered, marg_box_value), (cp_box_covered, cp_box_value), (marg_ellipsoid_covered, marg_ellipsoid_value)"
   ]
  },
  {
   "cell_type": "code",
   "execution_count": 48,
   "metadata": {},
   "outputs": [
    {
     "ename": "TypeError",
     "evalue": "trial() missing 1 required positional argument: 'idx'",
     "output_type": "error",
     "traceback": [
      "\u001b[0;31m---------------------------------------------------------------------------\u001b[0m",
      "\u001b[0;31mTypeError\u001b[0m                                 Traceback (most recent call last)",
      "Cell \u001b[0;32mIn[48], line 28\u001b[0m\n\u001b[1;32m     25\u001b[0m marg_ellipsoid_values \u001b[39m=\u001b[39m []\n\u001b[1;32m     27\u001b[0m \u001b[39mfor\u001b[39;00m trial_idx \u001b[39min\u001b[39;00m \u001b[39mrange\u001b[39m(n_trials):\n\u001b[0;32m---> 28\u001b[0m     (marg_box_covered_trial, marg_box_value_trial), (cp_box_covered_trial, cp_box_value_trial), (marg_ellipsoid_covered_trial, marg_ellipsoid_value_trial) \u001b[39m=\u001b[39m trial(alpha)\n\u001b[1;32m     29\u001b[0m     marg_box_covered \u001b[39m+\u001b[39m\u001b[39m=\u001b[39m marg_box_covered_trial\n\u001b[1;32m     30\u001b[0m     marg_box_values\u001b[39m.\u001b[39mappend(marg_box_value_trial)\n",
      "\u001b[0;31mTypeError\u001b[0m: trial() missing 1 required positional argument: 'idx'"
     ]
    }
   ],
   "source": [
    "alphas = [0.05]\n",
    "coverages = {\n",
    "    r\"$\\alpha$\": alphas,\n",
    "    \"Box\": [],\n",
    "    \"PTC-B\": [],\n",
    "    \"Ellipsoid\": [],\n",
    "}\n",
    "values = {\n",
    "    r\"$\\alpha$\": alphas,\n",
    "    \"Box\": [],\n",
    "    \"PTC-B\": [],\n",
    "    \"Ellipsoid\": [],\n",
    "}\n",
    "\n",
    "n_trials = 100\n",
    "\n",
    "for alpha in alphas:\n",
    "    marg_box_covered = 0\n",
    "    marg_box_values = []\n",
    "\n",
    "    cp_box_covered = 0\n",
    "    cp_box_values = []\n",
    "\n",
    "    marg_ellipsoid_covered = 0\n",
    "    marg_ellipsoid_values = []\n",
    "\n",
    "    for trial_idx in range(n_trials):\n",
    "        (marg_box_covered_trial, marg_box_value_trial), (cp_box_covered_trial, cp_box_value_trial), (marg_ellipsoid_covered_trial, marg_ellipsoid_value_trial) = trial(alpha, trial_idx)\n",
    "        marg_box_covered += marg_box_covered_trial\n",
    "        marg_box_values.append(marg_box_value_trial)\n",
    "\n",
    "        cp_box_covered += cp_box_covered_trial\n",
    "        cp_box_values.append(cp_box_value_trial)\n",
    "\n",
    "        marg_ellipsoid_covered += marg_ellipsoid_covered_trial\n",
    "        marg_ellipsoid_values.append(marg_ellipsoid_value_trial)\n",
    "\n",
    "    coverages[\"Box\"].append(marg_box_covered / n_trials)\n",
    "    coverages[\"PTC-B\"].append(cp_box_covered / n_trials)\n",
    "    coverages[\"Ellipsoid\"].append(marg_ellipsoid_covered / n_trials)\n",
    "\n",
    "    values[\"Box\"].append(np.mean(marg_box_values))\n",
    "    values[\"PTC-B\"].append(np.mean(cp_box_values))\n",
    "    values[\"Ellipsoid\"].append(np.mean(marg_ellipsoid_values))"
   ]
  },
  {
   "cell_type": "code",
   "execution_count": 49,
   "metadata": {},
   "outputs": [
    {
     "ename": "ValueError",
     "evalue": "All arrays must be of the same length",
     "output_type": "error",
     "traceback": [
      "\u001b[0;31m---------------------------------------------------------------------------\u001b[0m",
      "\u001b[0;31mValueError\u001b[0m                                Traceback (most recent call last)",
      "Cell \u001b[0;32mIn[49], line 3\u001b[0m\n\u001b[1;32m      1\u001b[0m \u001b[39mimport\u001b[39;00m \u001b[39mpandas\u001b[39;00m \u001b[39mas\u001b[39;00m \u001b[39mpd\u001b[39;00m\n\u001b[0;32m----> 3\u001b[0m coverage_df \u001b[39m=\u001b[39m pd\u001b[39m.\u001b[39;49mDataFrame(coverages)\n\u001b[1;32m      4\u001b[0m values_df \u001b[39m=\u001b[39m pd\u001b[39m.\u001b[39mDataFrame(values)\n",
      "File \u001b[0;32m~/anaconda3/envs/chig/lib/python3.8/site-packages/pandas/core/frame.py:708\u001b[0m, in \u001b[0;36mDataFrame.__init__\u001b[0;34m(self, data, index, columns, dtype, copy)\u001b[0m\n\u001b[1;32m    702\u001b[0m     mgr \u001b[39m=\u001b[39m \u001b[39mself\u001b[39m\u001b[39m.\u001b[39m_init_mgr(\n\u001b[1;32m    703\u001b[0m         data, axes\u001b[39m=\u001b[39m{\u001b[39m\"\u001b[39m\u001b[39mindex\u001b[39m\u001b[39m\"\u001b[39m: index, \u001b[39m\"\u001b[39m\u001b[39mcolumns\u001b[39m\u001b[39m\"\u001b[39m: columns}, dtype\u001b[39m=\u001b[39mdtype, copy\u001b[39m=\u001b[39mcopy\n\u001b[1;32m    704\u001b[0m     )\n\u001b[1;32m    706\u001b[0m \u001b[39melif\u001b[39;00m \u001b[39misinstance\u001b[39m(data, \u001b[39mdict\u001b[39m):\n\u001b[1;32m    707\u001b[0m     \u001b[39m# GH#38939 de facto copy defaults to False only in non-dict cases\u001b[39;00m\n\u001b[0;32m--> 708\u001b[0m     mgr \u001b[39m=\u001b[39m dict_to_mgr(data, index, columns, dtype\u001b[39m=\u001b[39;49mdtype, copy\u001b[39m=\u001b[39;49mcopy, typ\u001b[39m=\u001b[39;49mmanager)\n\u001b[1;32m    709\u001b[0m \u001b[39melif\u001b[39;00m \u001b[39misinstance\u001b[39m(data, ma\u001b[39m.\u001b[39mMaskedArray):\n\u001b[1;32m    710\u001b[0m     \u001b[39mfrom\u001b[39;00m \u001b[39mnumpy\u001b[39;00m\u001b[39m.\u001b[39;00m\u001b[39mma\u001b[39;00m \u001b[39mimport\u001b[39;00m mrecords\n",
      "File \u001b[0;32m~/anaconda3/envs/chig/lib/python3.8/site-packages/pandas/core/internals/construction.py:481\u001b[0m, in \u001b[0;36mdict_to_mgr\u001b[0;34m(data, index, columns, dtype, typ, copy)\u001b[0m\n\u001b[1;32m    477\u001b[0m     \u001b[39melse\u001b[39;00m:\n\u001b[1;32m    478\u001b[0m         \u001b[39m# dtype check to exclude e.g. range objects, scalars\u001b[39;00m\n\u001b[1;32m    479\u001b[0m         arrays \u001b[39m=\u001b[39m [x\u001b[39m.\u001b[39mcopy() \u001b[39mif\u001b[39;00m \u001b[39mhasattr\u001b[39m(x, \u001b[39m\"\u001b[39m\u001b[39mdtype\u001b[39m\u001b[39m\"\u001b[39m) \u001b[39melse\u001b[39;00m x \u001b[39mfor\u001b[39;00m x \u001b[39min\u001b[39;00m arrays]\n\u001b[0;32m--> 481\u001b[0m \u001b[39mreturn\u001b[39;00m arrays_to_mgr(arrays, columns, index, dtype\u001b[39m=\u001b[39;49mdtype, typ\u001b[39m=\u001b[39;49mtyp, consolidate\u001b[39m=\u001b[39;49mcopy)\n",
      "File \u001b[0;32m~/anaconda3/envs/chig/lib/python3.8/site-packages/pandas/core/internals/construction.py:115\u001b[0m, in \u001b[0;36marrays_to_mgr\u001b[0;34m(arrays, columns, index, dtype, verify_integrity, typ, consolidate)\u001b[0m\n\u001b[1;32m    112\u001b[0m \u001b[39mif\u001b[39;00m verify_integrity:\n\u001b[1;32m    113\u001b[0m     \u001b[39m# figure out the index, if necessary\u001b[39;00m\n\u001b[1;32m    114\u001b[0m     \u001b[39mif\u001b[39;00m index \u001b[39mis\u001b[39;00m \u001b[39mNone\u001b[39;00m:\n\u001b[0;32m--> 115\u001b[0m         index \u001b[39m=\u001b[39m _extract_index(arrays)\n\u001b[1;32m    116\u001b[0m     \u001b[39melse\u001b[39;00m:\n\u001b[1;32m    117\u001b[0m         index \u001b[39m=\u001b[39m ensure_index(index)\n",
      "File \u001b[0;32m~/anaconda3/envs/chig/lib/python3.8/site-packages/pandas/core/internals/construction.py:655\u001b[0m, in \u001b[0;36m_extract_index\u001b[0;34m(data)\u001b[0m\n\u001b[1;32m    653\u001b[0m lengths \u001b[39m=\u001b[39m \u001b[39mlist\u001b[39m(\u001b[39mset\u001b[39m(raw_lengths))\n\u001b[1;32m    654\u001b[0m \u001b[39mif\u001b[39;00m \u001b[39mlen\u001b[39m(lengths) \u001b[39m>\u001b[39m \u001b[39m1\u001b[39m:\n\u001b[0;32m--> 655\u001b[0m     \u001b[39mraise\u001b[39;00m \u001b[39mValueError\u001b[39;00m(\u001b[39m\"\u001b[39m\u001b[39mAll arrays must be of the same length\u001b[39m\u001b[39m\"\u001b[39m)\n\u001b[1;32m    657\u001b[0m \u001b[39mif\u001b[39;00m have_dicts:\n\u001b[1;32m    658\u001b[0m     \u001b[39mraise\u001b[39;00m \u001b[39mValueError\u001b[39;00m(\n\u001b[1;32m    659\u001b[0m         \u001b[39m\"\u001b[39m\u001b[39mMixing dicts with non-Series may lead to ambiguous ordering.\u001b[39m\u001b[39m\"\u001b[39m\n\u001b[1;32m    660\u001b[0m     )\n",
      "\u001b[0;31mValueError\u001b[0m: All arrays must be of the same length"
     ]
    }
   ],
   "source": [
    "import pandas as pd\n",
    "\n",
    "coverage_df = pd.DataFrame(coverages)\n",
    "values_df = pd.DataFrame(values)"
   ]
  },
  {
   "cell_type": "code",
   "execution_count": 42,
   "metadata": {},
   "outputs": [
    {
     "name": "stdout",
     "output_type": "stream",
     "text": [
      "   $\\alpha$  Box  PTC-B  Ellipsoid\n",
      "0      0.05  0.0    0.0       0.94\n",
      "   $\\alpha$  Box  PTC-B     Ellipsoid\n",
      "0      0.05  NaN    NaN  6.920573e-08\n"
     ]
    }
   ],
   "source": [
    "print(coverage_df)\n",
    "print(values_df)"
   ]
  },
  {
   "cell_type": "code",
   "execution_count": 54,
   "metadata": {},
   "outputs": [
    {
     "ename": "NameError",
     "evalue": "name 'coverage_data' is not defined",
     "output_type": "error",
     "traceback": [
      "\u001b[0;31m---------------------------------------------------------------------------\u001b[0m",
      "\u001b[0;31mNameError\u001b[0m                                 Traceback (most recent call last)",
      "Cell \u001b[0;32mIn[54], line 4\u001b[0m\n\u001b[1;32m      1\u001b[0m \u001b[39mprint\u001b[39m(coverage_df\u001b[39m.\u001b[39mto_latex(index\u001b[39m=\u001b[39m\u001b[39mFalse\u001b[39;00m,\n\u001b[1;32m      2\u001b[0m                   formatters\u001b[39m=\u001b[39m{\u001b[39m\"\u001b[39m\u001b[39mname\u001b[39m\u001b[39m\"\u001b[39m: \u001b[39mstr\u001b[39m\u001b[39m.\u001b[39mupper},\n\u001b[1;32m      3\u001b[0m                   float_format\u001b[39m=\u001b[39m\u001b[39m\"\u001b[39m\u001b[39m{:.2f}\u001b[39;00m\u001b[39m\"\u001b[39m\u001b[39m.\u001b[39mformat,\n\u001b[0;32m----> 4\u001b[0m                   column_format\u001b[39m=\u001b[39m\u001b[39m\"\u001b[39m\u001b[39mc\u001b[39m\u001b[39m\"\u001b[39m \u001b[39m*\u001b[39m \u001b[39mlen\u001b[39m(coverage_data),\n\u001b[1;32m      5\u001b[0m ))\n\u001b[1;32m      7\u001b[0m \u001b[39mprint\u001b[39m(values_df\u001b[39m.\u001b[39mto_latex(index\u001b[39m=\u001b[39m\u001b[39mFalse\u001b[39;00m,\n\u001b[1;32m      8\u001b[0m                   formatters\u001b[39m=\u001b[39m{\u001b[39m\"\u001b[39m\u001b[39mname\u001b[39m\u001b[39m\"\u001b[39m: \u001b[39mstr\u001b[39m\u001b[39m.\u001b[39mupper},\n\u001b[1;32m      9\u001b[0m                   float_format\u001b[39m=\u001b[39m\u001b[39m\"\u001b[39m\u001b[39m{:.2f}\u001b[39;00m\u001b[39m\"\u001b[39m\u001b[39m.\u001b[39mformat,\n\u001b[1;32m     10\u001b[0m                   column_format\u001b[39m=\u001b[39m\u001b[39m\"\u001b[39m\u001b[39mc\u001b[39m\u001b[39m\"\u001b[39m \u001b[39m*\u001b[39m \u001b[39mlen\u001b[39m(values_data)\n\u001b[1;32m     11\u001b[0m ))\n",
      "\u001b[0;31mNameError\u001b[0m: name 'coverage_data' is not defined"
     ]
    }
   ],
   "source": [
    "print(coverage_df.to_latex(index=False,\n",
    "                  formatters={\"name\": str.upper},\n",
    "                  float_format=\"{:.2f}\".format,\n",
    "                  column_format=\"c\" * len(coverage_data),\n",
    "))\n",
    "\n",
    "print(values_df.to_latex(index=False,\n",
    "                  formatters={\"name\": str.upper},\n",
    "                  float_format=\"{:.2f}\".format,\n",
    "                  column_format=\"c\" * len(values_data)\n",
    "))"
   ]
  },
  {
   "cell_type": "code",
   "execution_count": null,
   "metadata": {},
   "outputs": [],
   "source": []
  }
 ],
 "metadata": {
  "kernelspec": {
   "display_name": "chig",
   "language": "python",
   "name": "python3"
  },
  "language_info": {
   "codemirror_mode": {
    "name": "ipython",
    "version": 3
   },
   "file_extension": ".py",
   "mimetype": "text/x-python",
   "name": "python",
   "nbconvert_exporter": "python",
   "pygments_lexer": "ipython3",
   "version": "3.8.16"
  },
  "orig_nbformat": 4
 },
 "nbformat": 4,
 "nbformat_minor": 2
}
