{
 "cells": [
  {
   "cell_type": "code",
   "execution_count": 3,
   "metadata": {},
   "outputs": [],
   "source": [
    "import numpy as np\n",
    "import matplotlib.pyplot as plt\n",
    "import pandas as pd"
   ]
  },
  {
   "cell_type": "code",
   "execution_count": 12,
   "metadata": {},
   "outputs": [],
   "source": [
    "import os\n",
    "\n",
    "task_names = [\n",
    "    \"bernoulli_glm\",\n",
    "    \"gaussian_linear\",\n",
    "    \"gaussian_linear_uniform\",\n",
    "    \"gaussian_mixture\",\n",
    "    \"two_moons\",\n",
    "]\n",
    "\n",
    "values_dfs = {}\n",
    "std_dfs = {}\n",
    "\n",
    "for task_name in task_names:\n",
    "    result_dir = os.path.join(\"results\", task_name)\n",
    "    values_dfs[task_name] = pd.read_csv(os.path.join(result_dir, \"values.csv\"), index_col=0)\n",
    "    std_dfs[task_name] = pd.read_csv(os.path.join(result_dir, \"std.csv\"), index_col=0)"
   ]
  },
  {
   "cell_type": "code",
   "execution_count": 16,
   "metadata": {},
   "outputs": [],
   "source": [
    "full_values = pd.concat(values_dfs)\n",
    "full_stds = pd.concat(std_dfs)"
   ]
  },
  {
   "cell_type": "code",
   "execution_count": 20,
   "metadata": {},
   "outputs": [
    {
     "name": "stdout",
     "output_type": "stream",
     "text": [
      "\\begin{tabular}{cccccc}\n",
      "\\toprule\n",
      "$\\alpha$ & Box & PTC-B & Ellipsoid & PTC-E & CPO \\\\\n",
      "\\midrule\n",
      "0.05 & -7.00 & -40.72 & 0.00 & -41.49 & 45.34 \\\\\n",
      "0.05 & 0.00 & -0.02 & 0.00 & 0.00 & 0.02 \\\\\n",
      "0.05 & 0.00 & -0.03 & 0.00 & -0.03 & -0.04 \\\\\n",
      "0.05 & 0.00 & -2.45 & 0.00 & -2.19 & -16.81 \\\\\n",
      "0.05 & 0.00 & -0.43 & 0.00 & -0.39 & 0.02 \\\\\n",
      "\\bottomrule\n",
      "\\end{tabular}\n",
      "\n",
      "\\begin{tabular}{cccccc}\n",
      "\\toprule\n",
      "$\\alpha$ & Box & PTC-B & Ellipsoid & PTC-E & CPO \\\\\n",
      "\\midrule\n",
      "0.05 & 0.00 & 19.27 & 0.00 & 16.11 & 8.97 \\\\\n",
      "0.05 & 0.00 & 0.07 & 0.00 & 0.00 & 0.01 \\\\\n",
      "0.05 & 0.00 & 0.05 & 0.00 & 0.05 & 0.11 \\\\\n",
      "0.05 & 0.00 & 3.35 & 0.00 & 3.09 & 19.48 \\\\\n",
      "0.05 & 0.00 & 0.37 & 0.00 & 0.35 & 0.01 \\\\\n",
      "\\bottomrule\n",
      "\\end{tabular}\n",
      "\n"
     ]
    }
   ],
   "source": [
    "print(full_values.to_latex(index=False,\n",
    "                  formatters={\"name\": str.upper},\n",
    "                  float_format=\"{:.2f}\".format,\n",
    "                  column_format=\"c\" * len(full_values.columns),\n",
    "))\n",
    "\n",
    "print(full_stds.to_latex(index=False,\n",
    "                  formatters={\"name\": str.upper},\n",
    "                  float_format=\"{:.2f}\".format,\n",
    "                  column_format=\"c\" * len(full_stds.columns)\n",
    "))"
   ]
  },
  {
   "cell_type": "code",
   "execution_count": null,
   "metadata": {},
   "outputs": [],
   "source": []
  }
 ],
 "metadata": {
  "kernelspec": {
   "display_name": "chig",
   "language": "python",
   "name": "python3"
  },
  "language_info": {
   "codemirror_mode": {
    "name": "ipython",
    "version": 3
   },
   "file_extension": ".py",
   "mimetype": "text/x-python",
   "name": "python",
   "nbconvert_exporter": "python",
   "pygments_lexer": "ipython3",
   "version": "3.8.16"
  },
  "orig_nbformat": 4
 },
 "nbformat": 4,
 "nbformat_minor": 2
}
