{
 "cells": [
  {
   "cell_type": "code",
   "execution_count": 23,
   "metadata": {},
   "outputs": [],
   "source": [
    "import numpy as np\n",
    "import matplotlib.pyplot as plt\n",
    "import pandas as pd"
   ]
  },
  {
   "cell_type": "code",
   "execution_count": 2,
   "metadata": {},
   "outputs": [],
   "source": [
    "import os\n",
    "\n",
    "task_names = [\n",
    "    \"bernoulli_glm\",\n",
    "    \"gaussian_linear\",\n",
    "    \"gaussian_linear_uniform\",\n",
    "    \"gaussian_mixture\",\n",
    "    \"two_moons\",\n",
    "]\n",
    "\n",
    "values_dfs = {}\n",
    "std_dfs = {}\n",
    "\n",
    "for task_name in task_names:\n",
    "    result_dir = os.path.join(\"results\", task_name)\n",
    "    values_dfs[task_name] = pd.read_csv(os.path.join(result_dir, \"values.csv\"), index_col=0)\n",
    "    std_dfs[task_name] = pd.read_csv(os.path.join(result_dir, \"std.csv\"), index_col=0)"
   ]
  },
  {
   "cell_type": "code",
   "execution_count": 3,
   "metadata": {},
   "outputs": [],
   "source": [
    "full_values = pd.concat(values_dfs)\n",
    "full_stds = pd.concat(std_dfs)"
   ]
  },
  {
   "cell_type": "code",
   "execution_count": 4,
   "metadata": {},
   "outputs": [
    {
     "name": "stdout",
     "output_type": "stream",
     "text": [
      "\\begin{tabular}{cccccc}\n",
      "\\toprule\n",
      "$\\alpha$ & Box & PTC-B & Ellipsoid & PTC-E & CPO \\\\\n",
      "\\midrule\n",
      "0.05 & -6.00 & -46.56 & 0.00 & -45.01 & 4.38 \\\\\n",
      "0.05 & 0.00 & -0.01 & 0.00 & 0.00 & 0.00 \\\\\n",
      "0.05 & 0.00 & -0.01 & 0.00 & -0.00 & -0.03 \\\\\n",
      "0.05 & 0.00 & -3.21 & 0.00 & -3.23 & -22.39 \\\\\n",
      "0.05 & 0.00 & -0.21 & 0.00 & -0.19 & 0.00 \\\\\n",
      "\\bottomrule\n",
      "\\end{tabular}\n",
      "\n",
      "\\begin{tabular}{cccccc}\n",
      "\\toprule\n",
      "$\\alpha$ & Box & PTC-B & Ellipsoid & PTC-E & CPO \\\\\n",
      "\\midrule\n",
      "0.05 & 0.00 & 22.27 & 0.00 & 19.13 & 0.54 \\\\\n",
      "0.05 & 0.00 & 0.02 & 0.00 & 0.00 & 0.00 \\\\\n",
      "0.05 & 0.00 & 0.04 & 0.00 & 0.01 & 0.08 \\\\\n",
      "0.05 & 0.00 & 3.23 & 0.00 & 3.07 & 30.95 \\\\\n",
      "0.05 & 0.00 & 0.27 & 0.00 & 0.28 & 0.00 \\\\\n",
      "\\bottomrule\n",
      "\\end{tabular}\n",
      "\n"
     ]
    }
   ],
   "source": [
    "print(full_values.to_latex(index=False,\n",
    "                  formatters={\"name\": str.upper},\n",
    "                  float_format=\"{:.2f}\".format,\n",
    "                  column_format=\"c\" * len(full_values.columns),\n",
    "))\n",
    "\n",
    "print(full_stds.to_latex(index=False,\n",
    "                  formatters={\"name\": str.upper},\n",
    "                  float_format=\"{:.2f}\".format,\n",
    "                  column_format=\"c\" * len(full_stds.columns)\n",
    "))"
   ]
  },
  {
   "cell_type": "code",
   "execution_count": 5,
   "metadata": {},
   "outputs": [],
   "source": [
    "import numpy as np\n",
    "import matplotlib.pyplot as plt\n",
    "import cvxpy as cp\n",
    "from rsome import ro\n",
    "from rsome import grb_solver as grb\n",
    "import rsome as rso\n",
    "import numpy as np\n",
    "\n",
    "import torch\n",
    "from torch import nn\n",
    "import torch.optim as optim\n",
    "from torch.utils.data import DataLoader, TensorDataset\n",
    "\n",
    "import pandas as pd\n",
    "import sbibm\n",
    "\n",
    "import os\n",
    "import pickle"
   ]
  },
  {
   "cell_type": "code",
   "execution_count": 6,
   "metadata": {},
   "outputs": [],
   "source": [
    "task_name = \"slcp\"\n",
    "\n",
    "task = sbibm.get_task(task_name)\n",
    "prior = task.get_prior_dist()\n",
    "simulator = task.get_simulator()"
   ]
  },
  {
   "cell_type": "code",
   "execution_count": 12,
   "metadata": {},
   "outputs": [
    {
     "data": {
      "text/plain": [
       "Flow(\n",
       "  (_transform): CompositeTransform(\n",
       "    (_transforms): ModuleList(\n",
       "      (0): PiecewiseRationalQuadraticCouplingTransform(\n",
       "        (transform_net): ResidualNet(\n",
       "          (initial_layer): Linear(in_features=10, out_features=50, bias=True)\n",
       "          (blocks): ModuleList(\n",
       "            (0-1): 2 x ResidualBlock(\n",
       "              (context_layer): Linear(in_features=8, out_features=50, bias=True)\n",
       "              (linear_layers): ModuleList(\n",
       "                (0-1): 2 x Linear(in_features=50, out_features=50, bias=True)\n",
       "              )\n",
       "              (dropout): Dropout(p=0.0, inplace=False)\n",
       "            )\n",
       "          )\n",
       "          (final_layer): Linear(in_features=50, out_features=87, bias=True)\n",
       "        )\n",
       "      )\n",
       "      (1): LULinear()\n",
       "      (2): PiecewiseRationalQuadraticCouplingTransform(\n",
       "        (transform_net): ResidualNet(\n",
       "          (initial_layer): Linear(in_features=11, out_features=50, bias=True)\n",
       "          (blocks): ModuleList(\n",
       "            (0-1): 2 x ResidualBlock(\n",
       "              (context_layer): Linear(in_features=8, out_features=50, bias=True)\n",
       "              (linear_layers): ModuleList(\n",
       "                (0-1): 2 x Linear(in_features=50, out_features=50, bias=True)\n",
       "              )\n",
       "              (dropout): Dropout(p=0.0, inplace=False)\n",
       "            )\n",
       "          )\n",
       "          (final_layer): Linear(in_features=50, out_features=58, bias=True)\n",
       "        )\n",
       "      )\n",
       "      (3): LULinear()\n",
       "      (4): PiecewiseRationalQuadraticCouplingTransform(\n",
       "        (transform_net): ResidualNet(\n",
       "          (initial_layer): Linear(in_features=10, out_features=50, bias=True)\n",
       "          (blocks): ModuleList(\n",
       "            (0-1): 2 x ResidualBlock(\n",
       "              (context_layer): Linear(in_features=8, out_features=50, bias=True)\n",
       "              (linear_layers): ModuleList(\n",
       "                (0-1): 2 x Linear(in_features=50, out_features=50, bias=True)\n",
       "              )\n",
       "              (dropout): Dropout(p=0.0, inplace=False)\n",
       "            )\n",
       "          )\n",
       "          (final_layer): Linear(in_features=50, out_features=87, bias=True)\n",
       "        )\n",
       "      )\n",
       "      (5): LULinear()\n",
       "      (6): PiecewiseRationalQuadraticCouplingTransform(\n",
       "        (transform_net): ResidualNet(\n",
       "          (initial_layer): Linear(in_features=11, out_features=50, bias=True)\n",
       "          (blocks): ModuleList(\n",
       "            (0-1): 2 x ResidualBlock(\n",
       "              (context_layer): Linear(in_features=8, out_features=50, bias=True)\n",
       "              (linear_layers): ModuleList(\n",
       "                (0-1): 2 x Linear(in_features=50, out_features=50, bias=True)\n",
       "              )\n",
       "              (dropout): Dropout(p=0.0, inplace=False)\n",
       "            )\n",
       "          )\n",
       "          (final_layer): Linear(in_features=50, out_features=58, bias=True)\n",
       "        )\n",
       "      )\n",
       "      (7): LULinear()\n",
       "      (8): PiecewiseRationalQuadraticCouplingTransform(\n",
       "        (transform_net): ResidualNet(\n",
       "          (initial_layer): Linear(in_features=10, out_features=50, bias=True)\n",
       "          (blocks): ModuleList(\n",
       "            (0-1): 2 x ResidualBlock(\n",
       "              (context_layer): Linear(in_features=8, out_features=50, bias=True)\n",
       "              (linear_layers): ModuleList(\n",
       "                (0-1): 2 x Linear(in_features=50, out_features=50, bias=True)\n",
       "              )\n",
       "              (dropout): Dropout(p=0.0, inplace=False)\n",
       "            )\n",
       "          )\n",
       "          (final_layer): Linear(in_features=50, out_features=87, bias=True)\n",
       "        )\n",
       "      )\n",
       "      (9): LULinear()\n",
       "    )\n",
       "  )\n",
       "  (_distribution): StandardNormal()\n",
       "  (_embedding_net): Identity()\n",
       ")"
      ]
     },
     "execution_count": 12,
     "metadata": {},
     "output_type": "execute_result"
    }
   ],
   "source": [
    "device = \"cuda:0\"\n",
    "cached_fn = os.path.join(\"trained\", f\"{task_name}.nf\")\n",
    "with open(cached_fn, \"rb\") as f:\n",
    "    encoder = pickle.load(f)\n",
    "encoder.to(device)"
   ]
  },
  {
   "cell_type": "code",
   "execution_count": 18,
   "metadata": {},
   "outputs": [],
   "source": [
    "c = prior.sample((10,))\n",
    "x = simulator(c).to(device)\n",
    "c = c.to(device)"
   ]
  },
  {
   "cell_type": "code",
   "execution_count": 25,
   "metadata": {},
   "outputs": [
    {
     "data": {
      "text/plain": [
       "tensor([[[-4.5319e-01,  1.5772e-01, -1.2418e+00,  2.1076e+00,  2.3707e+00],\n",
       "         [-7.1272e-01,  2.8112e+00, -1.3999e+00,  1.4454e+00,  2.3881e+00],\n",
       "         [-3.9279e-01,  2.5735e+00,  1.2463e+00, -1.6984e+00,  1.2985e+00],\n",
       "         [-9.2170e-01,  1.4552e+00, -1.6368e+00,  1.8967e+00,  2.0997e+00],\n",
       "         [-2.4356e+00,  1.2336e+00, -1.4954e+00, -1.6659e+00,  1.7538e+00]],\n",
       "\n",
       "        [[-5.5357e-01,  2.4265e-02, -1.8028e+00,  2.6282e+00,  1.9291e+00],\n",
       "         [-2.3763e+00,  7.6003e-03,  1.9184e+00, -3.0059e+00,  1.8025e+00],\n",
       "         [-3.5926e-01,  2.2549e+00,  2.5962e+00, -2.3844e+00,  1.2497e+00],\n",
       "         [ 1.0904e+00,  3.0178e+00,  1.7545e+00, -3.0406e+00,  2.1776e+00],\n",
       "         [-7.8171e-01,  1.9912e+00, -1.7818e+00, -2.6858e+00,  2.8235e+00]],\n",
       "\n",
       "        [[-2.4810e+00, -9.6669e-01, -1.1110e+00,  2.8203e-01, -1.0277e+00],\n",
       "         [-1.1957e+00, -7.8689e-01, -2.6782e+00,  1.2707e-01,  2.1655e+00],\n",
       "         [ 8.0618e-01, -9.1244e-01, -2.6276e+00, -2.5432e-01,  1.3139e+00],\n",
       "         [-4.4678e-01, -8.7416e-01,  1.4596e+00, -1.6953e-01,  9.4278e-01],\n",
       "         [-1.2053e+00, -9.2380e-01,  1.4587e+00, -2.3054e-01,  1.0248e+00]],\n",
       "\n",
       "        [[ 2.7505e+00, -2.8719e+00, -2.7848e+00, -1.3460e+00,  2.8986e+00],\n",
       "         [ 1.2278e+00, -1.8960e+00, -2.9928e+00, -1.5433e+00,  1.5782e+00],\n",
       "         [ 2.6561e+00, -1.7357e+00,  2.7744e+00, -2.2906e+00,  2.0224e+00],\n",
       "         [ 2.1067e+00, -8.0829e-01, -2.9112e+00,  3.1207e+00,  2.8064e+00],\n",
       "         [-9.0640e-01, -3.7149e-01,  2.7499e+00,  1.4847e+00,  7.2145e-01]],\n",
       "\n",
       "        [[ 1.1671e+00,  5.5316e-01, -1.4714e+00,  2.4620e-02, -9.5675e-02],\n",
       "         [-1.7186e+00,  5.1575e-01,  1.4934e+00,  3.5710e-01,  1.6248e+00],\n",
       "         [-2.1840e+00,  6.8046e-01,  1.5487e+00,  1.4909e-01,  1.0259e+00],\n",
       "         [-9.4856e-01,  5.7623e-01,  1.4688e+00,  2.4062e-01, -6.1687e-01],\n",
       "         [ 6.7764e-02,  6.1253e-01,  1.5121e+00, -4.6707e-02, -1.0646e-01]],\n",
       "\n",
       "        [[-1.1715e+00, -7.4465e-02,  2.2957e+00,  6.5740e-01,  2.8454e-01],\n",
       "         [-3.1969e-01,  4.7874e-02, -2.2085e+00,  8.7307e-02, -2.2951e+00],\n",
       "         [ 2.4440e+00, -1.5801e-01,  2.4783e+00, -4.7707e-01,  8.6230e-01],\n",
       "         [ 3.5563e-01, -1.6131e-01,  2.6927e+00, -4.7660e-01,  1.3553e+00],\n",
       "         [-1.4853e-01, -1.9809e-01, -1.6746e+00, -5.5817e-01, -3.5857e-01]],\n",
       "\n",
       "        [[ 5.1962e-01, -2.0162e+00, -1.7104e+00, -8.1387e-01,  2.7047e+00],\n",
       "         [-1.5367e+00, -2.0179e+00,  2.7836e+00, -9.0670e-01,  2.4144e+00],\n",
       "         [ 2.2980e+00, -2.0491e+00, -2.6489e+00,  8.7853e-01,  3.8211e-01],\n",
       "         [ 9.0259e-01, -2.0602e+00, -2.8604e+00, -7.4688e-01,  1.3440e+00],\n",
       "         [ 3.1941e-01, -2.1778e+00, -1.9089e+00,  9.0632e-01, -5.7985e-01]],\n",
       "\n",
       "        [[ 2.3019e-01, -2.3097e-01,  1.4235e-01,  4.6010e-01,  6.5931e-01],\n",
       "         [ 2.9412e-01, -1.4998e-01, -4.9138e-01, -5.2034e-01, -1.5773e-01],\n",
       "         [ 2.6921e-01, -1.0496e-01, -3.2111e-01,  5.3265e-01,  1.6054e+00],\n",
       "         [ 2.9069e-01, -4.8653e-01,  3.1889e-01, -6.5958e-01,  2.7646e+00],\n",
       "         [ 2.5071e-01, -5.6075e-02, -6.2390e-01, -7.1104e-01,  2.2359e+00]],\n",
       "\n",
       "        [[-2.9423e+00,  6.4245e-02, -6.9542e-01,  1.3748e-01,  3.6889e-01],\n",
       "         [-1.6439e+00, -1.1910e-01,  7.5278e-01, -6.8615e-02,  2.1426e+00],\n",
       "         [-2.1116e+00,  7.2692e-02,  8.6579e-01, -2.0589e-01, -1.1757e+00],\n",
       "         [-2.3756e+00,  1.2078e-03, -7.6076e-01,  2.2814e-01, -2.5806e+00],\n",
       "         [-2.0546e+00,  6.2936e-02,  1.0901e+00, -2.6377e-01,  2.9995e+00]],\n",
       "\n",
       "        [[ 2.6567e+00, -1.1689e+00, -2.7056e+00,  1.1271e+00,  5.1708e-01],\n",
       "         [ 2.9660e+00, -1.0651e+00, -2.7499e+00,  8.1010e-01,  2.0019e+00],\n",
       "         [ 1.3191e+00, -8.4840e-02, -2.7468e+00, -1.1302e+00,  4.7224e-01],\n",
       "         [ 1.6473e+00, -7.8414e-01,  2.6344e+00, -8.0610e-01,  2.5666e+00],\n",
       "         [ 2.1950e+00, -8.6859e-01,  2.2456e+00, -9.3156e-01,  3.5351e-01]]],\n",
       "       device='cuda:0', grad_fn=<ReshapeAliasBackward0>)"
      ]
     },
     "execution_count": 25,
     "metadata": {},
     "output_type": "execute_result"
    }
   ],
   "source": [
    "encoder.sample(5, x)"
   ]
  },
  {
   "cell_type": "code",
   "execution_count": 24,
   "metadata": {},
   "outputs": [],
   "source": [
    "import os"
   ]
  },
  {
   "cell_type": "code",
   "execution_count": 32,
   "metadata": {},
   "outputs": [],
   "source": [
    "method_names = [\"Box\", \"PTC-B\", \"Ellipsoid\", \"PTC-E\", \"CPO\"]\n",
    "task_names = os.listdir(\"results\")\n",
    "\n",
    "task_name_to_value = {}\n",
    "for task_name in task_names:\n",
    "    values = []\n",
    "    for method_name in method_names:\n",
    "        fn = os.path.join(\"results\", task_name, f\"{method_name}.csv\")\n",
    "        df = pd.read_csv(fn, index_col=0)\n",
    "        values.append(np.mean(df.values))\n",
    "    task_name_to_value[task_name] = values"
   ]
  },
  {
   "cell_type": "code",
   "execution_count": 40,
   "metadata": {},
   "outputs": [
    {
     "name": "stdout",
     "output_type": "stream",
     "text": [
      "\\begin{tabular}{ccccccccc}\n",
      "\\toprule\n",
      " & Box & PTC-B & Ellipsoid & PTC-E & CPO \\\\\n",
      "\\midrule\n",
      "sir & -0.16 & -0.43 & -0.08 & -0.37 & -0.35 \\\\\n",
      "two_moons & 0.00 & 0.00 & 0.00 & 0.00 & -0.03 \\\\\n",
      "slcp & 0.00 & 0.00 & 0.00 & 0.00 & 0.01 \\\\\n",
      "gaussian_linear_uniform & 0.00 & -0.05 & 0.00 & -0.10 & -0.51 \\\\\n",
      "slcp_distractors & 0.00 & 0.00 & 0.00 & 0.00 & 0.03 \\\\\n",
      "lotka_volterra & -0.52 & -0.49 & -0.01 & -0.40 & -0.29 \\\\\n",
      "bernoulli_glm & 0.00 & -0.05 & 0.00 & -0.04 & -1.16 \\\\\n",
      "gaussian_mixture & 0.00 & -3.45 & 0.00 & -3.04 & -66.93 \\\\\n",
      "gaussian_linear & 0.00 & 0.00 & 0.00 & 0.00 & 0.03 \\\\\n",
      "\\bottomrule\n",
      "\\end{tabular}\n",
      "\n"
     ]
    }
   ],
   "source": [
    "task_name_to_value_df = pd.DataFrame(task_name_to_value, index=method_names).T\n",
    "print(task_name_to_value_df.to_latex(index=True,\n",
    "                  formatters={\"name\": str.upper},\n",
    "                  float_format=\"{:.2f}\".format,\n",
    "                  column_format=\"c\" * len(task_name_to_value),\n",
    "))"
   ]
  },
  {
   "cell_type": "code",
   "execution_count": null,
   "metadata": {},
   "outputs": [],
   "source": []
  }
 ],
 "metadata": {
  "kernelspec": {
   "display_name": "chig",
   "language": "python",
   "name": "python3"
  },
  "language_info": {
   "codemirror_mode": {
    "name": "ipython",
    "version": 3
   },
   "file_extension": ".py",
   "mimetype": "text/x-python",
   "name": "python",
   "nbconvert_exporter": "python",
   "pygments_lexer": "ipython3",
   "version": "3.8.16"
  },
  "orig_nbformat": 4
 },
 "nbformat": 4,
 "nbformat_minor": 2
}
