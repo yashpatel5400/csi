{
 "cells": [
  {
   "cell_type": "code",
   "execution_count": 1,
   "metadata": {},
   "outputs": [],
   "source": [
    "import torch\n",
    "import sbibm\n",
    "import numpy as np\n",
    "import pandas as pd\n",
    "import matplotlib.pyplot as plt\n",
    "import seaborn as sns\n",
    "\n",
    "import seaborn as sns\n",
    "import matplotlib as mpl\n",
    "import matplotlib.pyplot as plt\n",
    "\n",
    "import pickle\n",
    "import os\n",
    "\n",
    "sns.set_theme()"
   ]
  },
  {
   "cell_type": "code",
   "execution_count": 2,
   "metadata": {},
   "outputs": [],
   "source": [
    "mpl.rcParams['text.usetex'] = True\n",
    "mpl.rcParams['mathtext.fontset'] = 'stix'\n",
    "mpl.rcParams['font.family'] = 'STIXGeneral'\n",
    "mpl.rcParams['text.latex.preamble'] = r'\\usepackage{amsfonts}'\n",
    "\n",
    "SMALL_SIZE = 12\n",
    "MEDIUM_SIZE = 14\n",
    "BIGGER_SIZE = 18\n",
    "\n",
    "plt.rc('font', size=BIGGER_SIZE)          # controls default text sizes\n",
    "plt.rc('axes', titlesize=BIGGER_SIZE)     # fontsize of the axes title\n",
    "plt.rc('axes', labelsize=BIGGER_SIZE)    # fontsize of the x and y labels\n",
    "plt.rc('xtick', labelsize=BIGGER_SIZE)    # fontsize of the tick labels\n",
    "plt.rc('ytick', labelsize=BIGGER_SIZE)    # fontsize of the tick labels\n",
    "plt.rc('legend', fontsize=BIGGER_SIZE)    # legend fontsize\n",
    "plt.rc('figure', titlesize=BIGGER_SIZE)  # fontsize of the figure title"
   ]
  },
  {
   "cell_type": "code",
   "execution_count": 5,
   "metadata": {},
   "outputs": [
    {
     "name": "stderr",
     "output_type": "stream",
     "text": [
      "/tmp/ipykernel_766453/3322154460.py:43: UserWarning: Ignoring `palette` because no `hue` variable has been assigned.\n",
      "  sns.lineplot(x=Ts, y=dists, ax=ax, legend=False, palette=\"flare\", lw=4)\n"
     ]
    }
   ],
   "source": [
    "def moving_average(a, n=3):\n",
    "    ret = np.cumsum(a, dtype=float)\n",
    "    ret[n:] = ret[n:] - ret[:-n]\n",
    "    return ret[n - 1:] / n\n",
    "\n",
    "task_names = [\n",
    "    \"two_moons\",\n",
    "    # \"lotka_volterra\",\n",
    "    # \"gaussian_mixture\",\n",
    "    # \"gaussian_linear_uniform\",\n",
    "    # \"sir\",\n",
    "    # \"gaussian_linear\",\n",
    "]\n",
    "\n",
    "task_name_titles = [\n",
    "    'Two Moons',\n",
    "    'Lotka Volterra',\n",
    "    'Gaussian Mixture',\n",
    "    'Gaussian Linear Uniform',\n",
    "    'SIR',\n",
    "    'Gaussian Linear',\n",
    "]\n",
    "\n",
    "fig, axs = plt.subplots(nrows=2, ncols=3, figsize=(24,16))\n",
    "# axs[0].set_ylabel(\"$\\mathbb{E}_X[\\mathcal{L}(\\cdot)]$\",fontsize=24)\n",
    "for i, task_name in enumerate(task_names):\n",
    "    ax = axs[i // 3, i - 3 * (i // 3)]\n",
    "    \n",
    "    ax.set_title(task_name_titles[i], fontsize=32)\n",
    "    \n",
    "    if i == 4:\n",
    "        ax.set_xlabel(r\"Distance $d(\\Xi, \\widehat{\\Xi})$\",fontsize=28)\n",
    "    else:\n",
    "        ax.set_xlabel(\" \")\n",
    "\n",
    "    if i == 0 or i == 3:\n",
    "        ax.set_ylabel(\"Diffusion Iterate $T$\",fontsize=28)\n",
    "    else:\n",
    "        ax.set_ylabel(\" \")\n",
    "    \n",
    "    with open(os.path.join(\"results\", \"dists\", f\"{task_name}.pkl\"), \"rb\") as f:\n",
    "        Ts, dists = pickle.load(f)\n",
    "    sns.lineplot(x=Ts, y=dists, ax=ax, legend=False, palette=\"flare\", lw=4)\n",
    "    \n",
    "    # window_size = 10\n",
    "    # rolling_dists = moving_average(np.array(dists), n=window_size)\n",
    "    # sns.lineplot(x=Ts[window_size - 1:], y=rolling_dists, ax=ax, legend=False, palette=\"flare\", lw=4, dashes=(4, 2))\n",
    "# plt.tight_layout()\n",
    "# plt.savefig(f\"distances.png\")"
   ]
  },
  {
   "cell_type": "code",
   "execution_count": null,
   "metadata": {},
   "outputs": [],
   "source": []
  },
  {
   "cell_type": "code",
   "execution_count": null,
   "metadata": {},
   "outputs": [],
   "source": []
  }
 ],
 "metadata": {
  "kernelspec": {
   "display_name": "chig",
   "language": "python",
   "name": "python3"
  },
  "language_info": {
   "codemirror_mode": {
    "name": "ipython",
    "version": 3
   },
   "file_extension": ".py",
   "mimetype": "text/x-python",
   "name": "python",
   "nbconvert_exporter": "python",
   "pygments_lexer": "ipython3",
   "version": "3.8.16"
  },
  "orig_nbformat": 4,
  "vscode": {
   "interpreter": {
    "hash": "025fdf49e09ee838b0c05e971129fbc14df70fae1b22b06a04398c8d66c2f675"
   }
  }
 },
 "nbformat": 4,
 "nbformat_minor": 2
}
