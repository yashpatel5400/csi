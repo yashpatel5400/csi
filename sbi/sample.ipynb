{
 "cells": [
  {
   "cell_type": "code",
   "execution_count": 27,
   "metadata": {},
   "outputs": [],
   "source": [
    "%matplotlib inline"
   ]
  },
  {
   "cell_type": "code",
   "execution_count": 71,
   "metadata": {},
   "outputs": [],
   "source": [
    "import pandas as pd\n",
    "import numpy as np\n",
    "import sbibm\n",
    "import torch\n",
    "import math\n",
    "import torch.distributions as D\n",
    "import matplotlib.pyplot as plt\n",
    "import torch.nn.functional as F\n",
    "\n",
    "from pyknos.nflows import flows, transforms\n",
    "from functools import partial\n",
    "from typing import Optional\n",
    "from warnings import warn\n",
    "\n",
    "from pyknos.nflows import distributions as distributions_\n",
    "from pyknos.nflows import flows, transforms\n",
    "from pyknos.nflows.nn import nets\n",
    "from pyknos.nflows.transforms.splines import rational_quadratic\n",
    "from torch import Tensor, nn, relu, tanh, tensor, uint8\n",
    "\n",
    "import seaborn as sns\n",
    "import matplotlib as mpl\n",
    "import matplotlib.pyplot as plt\n",
    "\n",
    "mpl.rcParams['text.usetex'] = True\n",
    "mpl.rcParams['mathtext.fontset'] = 'stix'\n",
    "mpl.rcParams['font.family'] = 'STIXGeneral'\n",
    "mpl.rcParams['text.latex.preamble'] = r'\\usepackage{amsfonts}'\n",
    "\n",
    "sns.set_theme()\n",
    "\n",
    "from sbi.utils.sbiutils import (\n",
    "    standardizing_net,\n",
    "    standardizing_transform,\n",
    "    z_score_parser,\n",
    ")\n",
    "from sbi.utils.torchutils import create_alternating_binary_mask\n",
    "from sbi.utils.user_input_checks import check_data_device, check_embedding_net_device\n",
    "\n",
    "import os\n",
    "import pickle\n",
    "import argparse\n",
    "\n",
    "from point_predictor import SimpleModel"
   ]
  },
  {
   "cell_type": "code",
   "execution_count": 76,
   "metadata": {},
   "outputs": [],
   "source": [
    "device = \"cpu\"\n",
    "task_name = \"gaussian_linear\"\n",
    "task = sbibm.get_task(task_name)\n",
    "prior = task.get_prior_dist()\n",
    "simulator = task.get_simulator()    \n",
    "\n",
    "model = torch.load(f\"{task_name}.pt\")\n",
    "\n",
    "epoch = 5_000\n",
    "sampler_fn = os.path.join(\"results\", f\"{task_name}_epoch={epoch}.nf\")\n",
    "with open(sampler_fn, \"rb\") as f:\n",
    "    sampler = pickle.load(f)\n",
    "sampler.to(device)\n",
    "\n",
    "# compute conformal quantile\n",
    "conformal_samples = 1_000\n",
    "cal_y = prior.sample((conformal_samples,))\n",
    "cal_x = simulator(cal_y)\n",
    "cal_y_pred, _ = model(cal_x)\n",
    "cal_scores = ((cal_y - cal_y_pred) ** 2).mean(axis=1).detach().numpy()\n",
    "\n",
    "alpha = 0.05\n",
    "desired_coverage = 1 - alpha\n",
    "quantile = np.quantile(cal_scores, q = desired_coverage)"
   ]
  },
  {
   "cell_type": "code",
   "execution_count": 77,
   "metadata": {},
   "outputs": [],
   "source": [
    "# sample region for construction\n",
    "region_samples = 500\n",
    "y = prior.sample((1,))\n",
    "x = simulator(y)\n",
    "y_pred, _ = model(x)"
   ]
  },
  {
   "cell_type": "code",
   "execution_count": 78,
   "metadata": {},
   "outputs": [],
   "source": [
    "zs = sampler.sample((region_samples), x)\n",
    "sampled_ys = model.fc4(zs).squeeze()\n",
    "sampled_scores = ((sampled_ys - y_pred) ** 2).mean(axis=1).detach().numpy()\n",
    "sampled_region = sampled_ys[sampled_scores < quantile].detach().numpy()"
   ]
  },
  {
   "cell_type": "code",
   "execution_count": 75,
   "metadata": {},
   "outputs": [
    {
     "data": {
      "text/plain": [
       "<Axes: >"
      ]
     },
     "execution_count": 75,
     "metadata": {},
     "output_type": "execute_result"
    },
    {
     "data": {
      "image/png": "[encoded data removed]",
      "text/plain": [
       "<Figure size 640x480 with 1 Axes>"
      ]
     },
     "metadata": {},
     "output_type": "display_data"
    }
   ],
   "source": [
    "sns.kdeplot(\n",
    "    x=sampled_region[:,0], y=sampled_region[:,1], \n",
    "    fill=True, thresh=0, levels=100, cmap=\"mako\",\n",
    ")"
   ]
  },
  {
   "cell_type": "code",
   "execution_count": 80,
   "metadata": {},
   "outputs": [
    {
     "data": {
      "text/plain": [
       "(500, 10)"
      ]
     },
     "execution_count": 80,
     "metadata": {},
     "output_type": "execute_result"
    }
   ],
   "source": [
    "sampled_region.shape"
   ]
  },
  {
   "cell_type": "code",
   "execution_count": 81,
   "metadata": {},
   "outputs": [
    {
     "ename": "IndexError",
     "evalue": "arrays used as indices must be of integer (or boolean) type",
     "output_type": "error",
     "traceback": [
      "\u001b[0;31m---------------------------------------------------------------------------\u001b[0m",
      "\u001b[0;31mIndexError\u001b[0m                                Traceback (most recent call last)",
      "Cell \u001b[0;32mIn[81], line 1\u001b[0m\n\u001b[0;32m----> 1\u001b[0m g \u001b[39m=\u001b[39m sns\u001b[39m.\u001b[39;49mPairGrid(sampled_region)\n",
      "File \u001b[0;32m~/anaconda3/envs/chig/lib/python3.8/site-packages/seaborn/axisgrid.py:1245\u001b[0m, in \u001b[0;36mPairGrid.__init__\u001b[0;34m(self, data, hue, vars, x_vars, y_vars, hue_order, palette, hue_kws, corner, diag_sharey, height, aspect, layout_pad, despine, dropna)\u001b[0m\n\u001b[1;32m   1242\u001b[0m \u001b[39msuper\u001b[39m()\u001b[39m.\u001b[39m\u001b[39m__init__\u001b[39m()\n\u001b[1;32m   1244\u001b[0m \u001b[39m# Sort out the variables that define the grid\u001b[39;00m\n\u001b[0;32m-> 1245\u001b[0m numeric_cols \u001b[39m=\u001b[39m \u001b[39mself\u001b[39;49m\u001b[39m.\u001b[39;49m_find_numeric_cols(data)\n\u001b[1;32m   1246\u001b[0m \u001b[39mif\u001b[39;00m hue \u001b[39min\u001b[39;00m numeric_cols:\n\u001b[1;32m   1247\u001b[0m     numeric_cols\u001b[39m.\u001b[39mremove(hue)\n",
      "File \u001b[0;32m~/anaconda3/envs/chig/lib/python3.8/site-packages/seaborn/axisgrid.py:1668\u001b[0m, in \u001b[0;36mPairGrid._find_numeric_cols\u001b[0;34m(self, data)\u001b[0m\n\u001b[1;32m   1666\u001b[0m numeric_cols \u001b[39m=\u001b[39m []\n\u001b[1;32m   1667\u001b[0m \u001b[39mfor\u001b[39;00m col \u001b[39min\u001b[39;00m data:\n\u001b[0;32m-> 1668\u001b[0m     \u001b[39mif\u001b[39;00m variable_type(data[col]) \u001b[39m==\u001b[39m \u001b[39m\"\u001b[39m\u001b[39mnumeric\u001b[39m\u001b[39m\"\u001b[39m:\n\u001b[1;32m   1669\u001b[0m         numeric_cols\u001b[39m.\u001b[39mappend(col)\n\u001b[1;32m   1670\u001b[0m \u001b[39mreturn\u001b[39;00m numeric_cols\n",
      "\u001b[0;31mIndexError\u001b[0m: arrays used as indices must be of integer (or boolean) type"
     ]
    }
   ],
   "source": [
    "g = sns.PairGrid(sampled_region)"
   ]
  },
  {
   "cell_type": "code",
   "execution_count": 83,
   "metadata": {},
   "outputs": [],
   "source": [
    "df = pd.DataFrame(sampled_region, columns = [f'theta_{i}' for i in range(sampled_region.shape[-1])])"
   ]
  },
  {
   "cell_type": "code",
   "execution_count": 88,
   "metadata": {},
   "outputs": [],
   "source": [
    "g = sns.pairplot(df)"
   ]
  },
  {
   "cell_type": "code",
   "execution_count": null,
   "metadata": {},
   "outputs": [],
   "source": []
  }
 ],
 "metadata": {
  "kernelspec": {
   "display_name": "chig",
   "language": "python",
   "name": "python3"
  },
  "language_info": {
   "codemirror_mode": {
    "name": "ipython",
    "version": 3
   },
   "file_extension": ".py",
   "mimetype": "text/x-python",
   "name": "python",
   "nbconvert_exporter": "python",
   "pygments_lexer": "ipython3",
   "version": "3.8.16"
  },
  "orig_nbformat": 4,
  "vscode": {
   "interpreter": {
    "hash": "025fdf49e09ee838b0c05e971129fbc14df70fae1b22b06a04398c8d66c2f675"
   }
  }
 },
 "nbformat": 4,
 "nbformat_minor": 2
}
