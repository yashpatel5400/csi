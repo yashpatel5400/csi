{
 "cells": [
  {
   "cell_type": "code",
   "execution_count": 1,
   "metadata": {},
   "outputs": [
    {
     "name": "stderr",
     "output_type": "stream",
     "text": [
      "/tmp/ipykernel_3510271/2463450284.py:11: DeprecationWarning: Please use `label` from the `scipy.ndimage` namespace, the `scipy.ndimage.measurements` namespace is deprecated.\n",
      "  from scipy.ndimage.measurements import label\n"
     ]
    }
   ],
   "source": [
    "import time\n",
    "import torch\n",
    "import sbibm\n",
    "import numpy as np\n",
    "import pandas as pd\n",
    "import matplotlib.pyplot as plt\n",
    "import seaborn as sns\n",
    "import pickle\n",
    "import os\n",
    "\n",
    "from scipy.ndimage.measurements import label\n",
    "from sklearn.cluster import KMeans\n",
    "from scipy import spatial\n",
    "import itertools\n",
    "import argparse"
   ]
  },
  {
   "cell_type": "code",
   "execution_count": 87,
   "metadata": {},
   "outputs": [],
   "source": [
    "img = np.random.randint(low=0, high=2, size=(10, 10, 10, 10))"
   ]
  },
  {
   "cell_type": "code",
   "execution_count": 88,
   "metadata": {},
   "outputs": [],
   "source": [
    "img_active = np.where(img == 1)\n",
    "active_locs = set(zip(*img_active))\n",
    "\n",
    "components = []\n",
    "while len(active_locs) > 0:\n",
    "    component = set()\n",
    "    to_branch = {active_locs.pop()}\n",
    "    while len(to_branch) > 0:\n",
    "        current_loc = to_branch.pop()\n",
    "        component.add(current_loc)\n",
    "        current_loc_arr = np.array(current_loc) # necessary to change component values\n",
    "        for dim in range(len(current_loc_arr)):\n",
    "            for displacement in [-1, 1]:\n",
    "                displacement_loc = np.zeros(len(current_loc_arr)).astype(int)\n",
    "                displacement_loc[dim] = displacement\n",
    "                candidate_loc = tuple(current_loc_arr + displacement_loc)\n",
    "                if candidate_loc in active_locs:\n",
    "                    active_locs.remove(candidate_loc)\n",
    "                    to_branch.add(candidate_loc)\n",
    "    components.append(component)"
   ]
  },
  {
   "cell_type": "code",
   "execution_count": 89,
   "metadata": {},
   "outputs": [
    {
     "data": {
      "text/plain": [
       "38"
      ]
     },
     "execution_count": 89,
     "metadata": {},
     "output_type": "execute_result"
    }
   ],
   "source": [
    "len(components)"
   ]
  },
  {
   "cell_type": "code",
   "execution_count": 81,
   "metadata": {},
   "outputs": [],
   "source": [
    "comp_idx = 5\n",
    "comp_img = np.zeros_like(img)\n",
    "comp = np.array([list(pos) for pos in components[comp_idx]])\n",
    "comp_img[tuple(comp.T)] = 1"
   ]
  },
  {
   "cell_type": "code",
   "execution_count": 82,
   "metadata": {},
   "outputs": [
    {
     "data": {
      "text/plain": [
       "<matplotlib.image.AxesImage at 0x7fcb015eebe0>"
      ]
     },
     "execution_count": 82,
     "metadata": {},
     "output_type": "execute_result"
    },
    {
     "data": {
      "image/png": "[encoded data removed]",
      "text/plain": [
       "<Figure size 640x480 with 1 Axes>"
      ]
     },
     "metadata": {},
     "output_type": "display_data"
    }
   ],
   "source": [
    "plt.imshow(comp_img)\n"
   ]
  },
  {
   "cell_type": "code",
   "execution_count": null,
   "metadata": {},
   "outputs": [],
   "source": []
  }
 ],
 "metadata": {
  "kernelspec": {
   "display_name": "chig",
   "language": "python",
   "name": "python3"
  },
  "language_info": {
   "codemirror_mode": {
    "name": "ipython",
    "version": 3
   },
   "file_extension": ".py",
   "mimetype": "text/x-python",
   "name": "python",
   "nbconvert_exporter": "python",
   "pygments_lexer": "ipython3",
   "version": "3.8.16"
  },
  "orig_nbformat": 4,
  "vscode": {
   "interpreter": {
    "hash": "025fdf49e09ee838b0c05e971129fbc14df70fae1b22b06a04398c8d66c2f675"
   }
  }
 },
 "nbformat": 4,
 "nbformat_minor": 2
}
