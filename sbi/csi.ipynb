{
 "cells": [
  {
   "cell_type": "code",
   "execution_count": 1,
   "id": "2712436c",
   "metadata": {},
   "outputs": [],
   "source": [
    "import time\n",
    "import torch\n",
    "import sbibm\n",
    "import numpy as np\n",
    "import pandas as pd\n",
    "import matplotlib.pyplot as plt\n",
    "import seaborn as sns\n",
    "import pickle\n",
    "import os"
   ]
  },
  {
   "cell_type": "code",
   "execution_count": 2,
   "id": "6974d7e4",
   "metadata": {},
   "outputs": [],
   "source": [
    "plt.rcParams['mathtext.fontset'] = 'stix'\n",
    "plt.rcParams['font.family'] = 'STIXGeneral'\n",
    "\n",
    "SMALL_SIZE = 12\n",
    "MEDIUM_SIZE = 14\n",
    "BIGGER_SIZE = 18\n",
    "\n",
    "plt.rc('font', size=BIGGER_SIZE)          # controls default text sizes\n",
    "plt.rc('axes', titlesize=BIGGER_SIZE)     # fontsize of the axes title\n",
    "plt.rc('axes', labelsize=BIGGER_SIZE)    # fontsize of the x and y labels\n",
    "plt.rc('xtick', labelsize=BIGGER_SIZE)    # fontsize of the tick labels\n",
    "plt.rc('ytick', labelsize=BIGGER_SIZE)    # fontsize of the tick labels\n",
    "plt.rc('legend', fontsize=BIGGER_SIZE)    # legend fontsize\n",
    "plt.rc('figure', titlesize=BIGGER_SIZE)  # fontsize of the figure title"
   ]
  },
  {
   "cell_type": "code",
   "execution_count": 71,
   "id": "44d14e8d",
   "metadata": {},
   "outputs": [
    {
     "data": {
      "text/plain": [
       "Flow(\n",
       "  (_transform): CompositeTransform(\n",
       "    (_transforms): ModuleList(\n",
       "      (0): PiecewiseRationalQuadraticCouplingTransform(\n",
       "        (transform_net): ResidualNet(\n",
       "          (initial_layer): Linear(in_features=3, out_features=50, bias=True)\n",
       "          (blocks): ModuleList(\n",
       "            (0-1): 2 x ResidualBlock(\n",
       "              (context_layer): Linear(in_features=2, out_features=50, bias=True)\n",
       "              (linear_layers): ModuleList(\n",
       "                (0-1): 2 x Linear(in_features=50, out_features=50, bias=True)\n",
       "              )\n",
       "              (dropout): Dropout(p=0.0, inplace=False)\n",
       "            )\n",
       "          )\n",
       "          (final_layer): Linear(in_features=50, out_features=29, bias=True)\n",
       "        )\n",
       "      )\n",
       "      (1): LULinear()\n",
       "      (2): PiecewiseRationalQuadraticCouplingTransform(\n",
       "        (transform_net): ResidualNet(\n",
       "          (initial_layer): Linear(in_features=3, out_features=50, bias=True)\n",
       "          (blocks): ModuleList(\n",
       "            (0-1): 2 x ResidualBlock(\n",
       "              (context_layer): Linear(in_features=2, out_features=50, bias=True)\n",
       "              (linear_layers): ModuleList(\n",
       "                (0-1): 2 x Linear(in_features=50, out_features=50, bias=True)\n",
       "              )\n",
       "              (dropout): Dropout(p=0.0, inplace=False)\n",
       "            )\n",
       "          )\n",
       "          (final_layer): Linear(in_features=50, out_features=29, bias=True)\n",
       "        )\n",
       "      )\n",
       "      (3): LULinear()\n",
       "      (4): PiecewiseRationalQuadraticCouplingTransform(\n",
       "        (transform_net): ResidualNet(\n",
       "          (initial_layer): Linear(in_features=3, out_features=50, bias=True)\n",
       "          (blocks): ModuleList(\n",
       "            (0-1): 2 x ResidualBlock(\n",
       "              (context_layer): Linear(in_features=2, out_features=50, bias=True)\n",
       "              (linear_layers): ModuleList(\n",
       "                (0-1): 2 x Linear(in_features=50, out_features=50, bias=True)\n",
       "              )\n",
       "              (dropout): Dropout(p=0.0, inplace=False)\n",
       "            )\n",
       "          )\n",
       "          (final_layer): Linear(in_features=50, out_features=29, bias=True)\n",
       "        )\n",
       "      )\n",
       "      (5): LULinear()\n",
       "      (6): PiecewiseRationalQuadraticCouplingTransform(\n",
       "        (transform_net): ResidualNet(\n",
       "          (initial_layer): Linear(in_features=3, out_features=50, bias=True)\n",
       "          (blocks): ModuleList(\n",
       "            (0-1): 2 x ResidualBlock(\n",
       "              (context_layer): Linear(in_features=2, out_features=50, bias=True)\n",
       "              (linear_layers): ModuleList(\n",
       "                (0-1): 2 x Linear(in_features=50, out_features=50, bias=True)\n",
       "              )\n",
       "              (dropout): Dropout(p=0.0, inplace=False)\n",
       "            )\n",
       "          )\n",
       "          (final_layer): Linear(in_features=50, out_features=29, bias=True)\n",
       "        )\n",
       "      )\n",
       "      (7): LULinear()\n",
       "      (8): PiecewiseRationalQuadraticCouplingTransform(\n",
       "        (transform_net): ResidualNet(\n",
       "          (initial_layer): Linear(in_features=3, out_features=50, bias=True)\n",
       "          (blocks): ModuleList(\n",
       "            (0-1): 2 x ResidualBlock(\n",
       "              (context_layer): Linear(in_features=2, out_features=50, bias=True)\n",
       "              (linear_layers): ModuleList(\n",
       "                (0-1): 2 x Linear(in_features=50, out_features=50, bias=True)\n",
       "              )\n",
       "              (dropout): Dropout(p=0.0, inplace=False)\n",
       "            )\n",
       "          )\n",
       "          (final_layer): Linear(in_features=50, out_features=29, bias=True)\n",
       "        )\n",
       "      )\n",
       "      (9): LULinear()\n",
       "    )\n",
       "  )\n",
       "  (_distribution): StandardNormal()\n",
       "  (_embedding_net): Identity()\n",
       ")"
      ]
     },
     "execution_count": 71,
     "metadata": {},
     "output_type": "execute_result"
    }
   ],
   "source": [
    "task_name = \"two_moons\"\n",
    "\n",
    "task = sbibm.get_task(task_name)\n",
    "prior = task.get_prior_dist()\n",
    "simulator = task.get_simulator()\n",
    "\n",
    "device = \"cpu\"\n",
    "cached_fn = os.path.join(\"trained\", f\"{task_name}.nf\")\n",
    "with open(cached_fn, \"rb\") as f:\n",
    "    encoder = pickle.load(f)\n",
    "encoder.to(device)"
   ]
  },
  {
   "cell_type": "code",
   "execution_count": 72,
   "id": "f5c408ed",
   "metadata": {},
   "outputs": [],
   "source": [
    "sims = 10_000 # same number for both test and calibration\n",
    "calibration_theta = prior.sample((sims,))\n",
    "calibration_x = simulator(calibration_theta)\n",
    "\n",
    "cal_scores = 1 / encoder.log_prob(calibration_theta.to(device), calibration_x.to(device)).detach().cpu().exp().numpy()\n",
    "desired_coverages = [0.75, 0.85, 0.95]\n",
    "desired_coverage = desired_coverages[-1]\n",
    "conformal_quantile = np.quantile(cal_scores, q = desired_coverage)"
   ]
  },
  {
   "cell_type": "code",
   "execution_count": 124,
   "id": "4b66b28b",
   "metadata": {},
   "outputs": [
    {
     "data": {
      "text/plain": [
       "<Axes: >"
      ]
     },
     "execution_count": 124,
     "metadata": {},
     "output_type": "execute_result"
    },
    {
     "data": {
      "image/png": "[encoded data removed]",
      "text/plain": [
       "<Figure size 640x480 with 1 Axes>"
      ]
     },
     "metadata": {},
     "output_type": "display_data"
    }
   ],
   "source": [
    "mins = prior.support.base_constraint.lower_bound.cpu().numpy()\n",
    "maxs = prior.support.base_constraint.upper_bound.cpu().numpy()\n",
    "\n",
    "d = len(mins) # dimensionality of theta\n",
    "K = 200 # discretization per dimension\n",
    "ranges = [np.arange(mins[i], maxs[i], (maxs[i] - mins[i]) / K) for i in range(d)]\n",
    "thetas = np.array(np.meshgrid(*ranges)).T.reshape(-1, d).astype(np.float32)\n",
    "\n",
    "test_sim = 1\n",
    "test_theta = prior.sample((test_sim,))\n",
    "test_x = simulator(test_theta)\n",
    "test_x_tiled = np.tile(test_x, (thetas.shape[0], 1)).astype(np.float32)\n",
    "\n",
    "probs = encoder.log_prob(thetas, test_x_tiled).detach().cpu().exp().numpy()\n",
    "probs_map = probs.reshape((K, K))\n",
    "sns.heatmap((1 / probs_map) < conformal_quantile, cbar=False, xticklabels=False, yticklabels=False)"
   ]
  },
  {
   "cell_type": "code",
   "execution_count": 125,
   "id": "a0ff3a17",
   "metadata": {},
   "outputs": [
    {
     "name": "stderr",
     "output_type": "stream",
     "text": [
      "/tmp/ipykernel_3266203/1141430561.py:1: DeprecationWarning: Please use `label` from the `scipy.ndimage` namespace, the `scipy.ndimage.measurements` namespace is deprecated.\n",
      "  from scipy.ndimage.measurements import label\n"
     ]
    }
   ],
   "source": [
    "from scipy.ndimage.measurements import label\n",
    "from sklearn.cluster import KMeans\n",
    "\n",
    "region = ((1 / probs_map) < conformal_quantile).astype(int)\n",
    "structure = np.ones((3, 3), dtype=int)  # this defines the connection filter\n",
    "labeled, ncomponents = label(region, structure)\n",
    "\n",
    "N = 8\n",
    "total_covered = np.sum(region)\n",
    "total_rps = 0\n",
    "true_rps = []\n",
    "\n",
    "for component in range(1, ncomponents + 1):\n",
    "    component_prop = np.sum(labeled == component) / total_covered\n",
    "    if component == ncomponents:\n",
    "        n = N - total_rps\n",
    "    else:\n",
    "        n = int(np.round(component_prop * N))\n",
    "        total_rps += n\n",
    "\n",
    "    # location_pairs = np.where(labeled == component)\n",
    "    # locations = list(zip(location_pairs[0], location_pairs[1]))\n",
    "    grid_region = thetas[(labeled == component).flatten()]\n",
    "    kmeans = KMeans(n_clusters=n, random_state=0, n_init=\"auto\").fit(grid_region)\n",
    "    true_rps.append(kmeans.cluster_centers_)\n",
    "true_rps = np.vstack(true_rps)"
   ]
  },
  {
   "cell_type": "code",
   "execution_count": 126,
   "id": "77b40bc4",
   "metadata": {},
   "outputs": [],
   "source": [
    "T = 5_000 # time steps of repulsive simulation\n",
    "\n",
    "y_hat = encoder.sample(N, test_x)[0].detach().cpu().numpy()\n",
    "test_x_tiled = np.tile(test_x, (y_hat.shape[0], 1)).astype(np.float32)\n",
    "trajectory = []\n",
    "eta = 0.01\n",
    "\n",
    "for _ in range(T):\n",
    "    proposed_y_hat = y_hat.copy() + eta * np.random.randn(y_hat.shape[0], y_hat.shape[1]).astype(np.float32)\n",
    "    proposed_probs = encoder.log_prob(proposed_y_hat, test_x_tiled).detach().cpu().exp().numpy()\n",
    "\n",
    "    in_region = (1 / proposed_probs) < conformal_quantile\n",
    "    y_hat[in_region] = proposed_y_hat[in_region]\n",
    "    trajectory.append(y_hat.copy())\n",
    "trajectory = np.array(trajectory)"
   ]
  },
  {
   "cell_type": "code",
   "execution_count": 127,
   "id": "1b351640",
   "metadata": {},
   "outputs": [],
   "source": [
    "import random\n",
    "from scipy import spatial\n",
    "\n",
    "def get_rps(trajectory):\n",
    "    remaining_traj_idxs = set(range(N))\n",
    "    final_trajs = []\n",
    "    ns = []\n",
    "    dist_thresh = 0.01\n",
    "    while len(remaining_traj_idxs) > 0:\n",
    "        root_traj_idx = remaining_traj_idxs.pop()\n",
    "        connected_trajs = [trajectory[:,root_traj_idx,:]]\n",
    "        connected_traj_idxs = set()\n",
    "        \n",
    "        tree = spatial.KDTree(trajectory[:,root_traj_idx,:])\n",
    "        for traj_idx in remaining_traj_idxs:\n",
    "            min_dists, _ = tree.query(trajectory[:,traj_idx,:])\n",
    "            closest_encounter = min(min_dists)\n",
    "            if closest_encounter < dist_thresh:\n",
    "                connected_trajs.append(trajectory[:,traj_idx,:])\n",
    "                connected_traj_idxs.add(traj_idx)\n",
    "        \n",
    "        for traj_idx in connected_traj_idxs:\n",
    "            if traj_idx in remaining_traj_idxs:\n",
    "                remaining_traj_idxs.remove(traj_idx)\n",
    "        ns.append(len(connected_trajs))\n",
    "        final_trajs.append(np.vstack(connected_trajs))\n",
    "\n",
    "    rps = []\n",
    "    for traj_idx, final_traj in enumerate(final_trajs):\n",
    "        kmeans = KMeans(n_clusters=ns[traj_idx], random_state=0, n_init=\"auto\").fit(final_traj)\n",
    "        rps.append(kmeans.cluster_centers_)\n",
    "    return np.vstack(rps)"
   ]
  },
  {
   "cell_type": "code",
   "execution_count": 141,
   "id": "52e7da29",
   "metadata": {},
   "outputs": [
    {
     "data": {
      "text/plain": [
       "<matplotlib.legend.Legend at 0x7f61fc408400>"
      ]
     },
     "execution_count": 141,
     "metadata": {},
     "output_type": "execute_result"
    },
    {
     "data": {
      "image/png": "[encoded data removed]",
      "text/plain": [
       "<Figure size 640x480 with 1 Axes>"
      ]
     },
     "metadata": {},
     "output_type": "display_data"
    }
   ],
   "source": [
    "mins = prior.support.base_constraint.lower_bound\n",
    "maxs = prior.support.base_constraint.upper_bound\n",
    "pred_rps = get_rps(trajectory[:5_000])\n",
    "\n",
    "plt.imshow(region, extent=[mins[0], maxs[0], mins[1], maxs[1]], origin=\"lower\")\n",
    "plt.scatter(pred_rps[:,1], pred_rps[:,0], s=10, color=\"red\", label=\"Estimate\")\n",
    "plt.scatter(true_rps[:,1], true_rps[:,0], s=10, color=\"green\", label=\"Exact\")\n",
    "\n",
    "plt.xticks([])\n",
    "plt.yticks([])\n",
    "plt.xlim(-1, 1)\n",
    "plt.ylim(-1, 1)\n",
    "plt.legend()"
   ]
  },
  {
   "cell_type": "code",
   "execution_count": 142,
   "metadata": {},
   "outputs": [],
   "source": [
    "import scipy.spatial\n",
    "import itertools\n",
    "\n",
    "def list_assoc(L1, L2, reverse=False):\n",
    "    tree=scipy.spatial.KDTree(L2)\n",
    "    assoc=[]\n",
    "    for I1,point in enumerate(L1):\n",
    "        _,I2 = tree.query(point,k=1)\n",
    "        if reverse:\n",
    "            assoc.append((I2,I1))\n",
    "        else:\n",
    "            assoc.append((I1,I2))\n",
    "    return assoc\n",
    "\n",
    "def get_opt_correspondence(true_rps, pred_rps):\n",
    "    # some complication to ensure 1-1 correspondence\n",
    "    true_to_pred_assoc_A = list_assoc(true_rps, pred_rps, reverse=False)\n",
    "    true_to_pred_assoc_B = list_assoc(pred_rps, true_rps, reverse=True)\n",
    "    true_to_pred_assoc   = list(set.intersection(set(true_to_pred_assoc_A), set(true_to_pred_assoc_B)))\n",
    "    \n",
    "    # exhaustively enumerate and match remainder: N here should be small, so N! should be manageable\n",
    "    unmatched_true = list(range(N))\n",
    "    unmatched_pred = list(range(N))\n",
    "    [(unmatched_true.remove(assoc[0]), unmatched_pred.remove(assoc[1])) for assoc in true_to_pred_assoc]\n",
    "    \n",
    "    if len(unmatched_true) > 0:\n",
    "        pred_permutations = list(itertools.permutations(unmatched_pred))\n",
    "        dists = []\n",
    "        for pred_permutation in pred_permutations:\n",
    "            correspondence_dist = true_rps[unmatched_true] - pred_rps[pred_permutation,:]\n",
    "            dists.append(np.sum(correspondence_dist ** 2))\n",
    "        unmatched_opt = np.argmin(dists)\n",
    "\n",
    "        true_to_pred_assoc += list(zip(unmatched_true, pred_permutations[unmatched_opt]))\n",
    "    true_to_pred_assoc = np.array(sorted(true_to_pred_assoc)).astype(np.int32)\n",
    "    return true_to_pred_assoc\n",
    "\n",
    "def get_dist(true_rps, pred_rps):\n",
    "    true_to_pred_assoc = get_opt_correspondence(true_rps, pred_rps)\n",
    "    opt_correspondence_dist = true_rps[true_to_pred_assoc[:,0]] - pred_rps[true_to_pred_assoc[:,1]]\n",
    "    return np.sum(opt_correspondence_dist ** 2)"
   ]
  },
  {
   "cell_type": "code",
   "execution_count": 143,
   "id": "5791232a",
   "metadata": {},
   "outputs": [],
   "source": [
    "ts = list(range(500, 5_001, 100))\n",
    "dists = []\n",
    "for t in ts:\n",
    "    pred_rps = get_rps(trajectory[:t])\n",
    "    pred_rps = np.vstack(pred_rps)\n",
    "    dists.append(get_dist(true_rps, pred_rps))"
   ]
  },
  {
   "cell_type": "code",
   "execution_count": 144,
   "id": "c3e7d516",
   "metadata": {},
   "outputs": [
    {
     "data": {
      "text/plain": [
       "<Axes: >"
      ]
     },
     "execution_count": 144,
     "metadata": {},
     "output_type": "execute_result"
    },
    {
     "data": {
      "image/png": "[encoded data removed]",
      "text/plain": [
       "<Figure size 640x480 with 1 Axes>"
      ]
     },
     "metadata": {},
     "output_type": "display_data"
    }
   ],
   "source": [
    "sns.lineplot(x=ts, y=dists)"
   ]
  },
  {
   "cell_type": "code",
   "execution_count": null,
   "id": "13660cac",
   "metadata": {},
   "outputs": [],
   "source": []
  }
 ],
 "metadata": {
  "kernelspec": {
   "display_name": "chig",
   "language": "python",
   "name": "python3"
  },
  "language_info": {
   "codemirror_mode": {
    "name": "ipython",
    "version": 3
   },
   "file_extension": ".py",
   "mimetype": "text/x-python",
   "name": "python",
   "nbconvert_exporter": "python",
   "pygments_lexer": "ipython3",
   "version": "3.8.16"
  },
  "vscode": {
   "interpreter": {
    "hash": "025fdf49e09ee838b0c05e971129fbc14df70fae1b22b06a04398c8d66c2f675"
   }
  }
 },
 "nbformat": 4,
 "nbformat_minor": 5
}
