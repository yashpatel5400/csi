{
 "cells": [
  {
   "cell_type": "code",
   "execution_count": 3,
   "metadata": {},
   "outputs": [],
   "source": [
    "class scatter():\n",
    "    def __init__(self,x,y,ax,size=1,**kwargs):\n",
    "        self.n = len(x)\n",
    "        self.ax = ax\n",
    "        self.ax.figure.canvas.draw()\n",
    "        self.size_data=size\n",
    "        self.size = size\n",
    "        self.sc = ax.scatter(x,y,s=self.size,**kwargs)\n",
    "        self._resize()\n",
    "        self.cid = ax.figure.canvas.mpl_connect('draw_event', self._resize)\n",
    "\n",
    "    def _resize(self,event=None):\n",
    "        ppd=72./self.ax.figure.dpi\n",
    "        trans = self.ax.transData.transform\n",
    "        s =  ((trans((1,self.size_data))-trans((0,0)))*ppd)[1]\n",
    "        if s != self.size:\n",
    "            self.sc.set_sizes(s**2*np.ones(self.n))\n",
    "            self.size = s\n",
    "            self._redraw_later()\n",
    "    \n",
    "    def _redraw_later(self):\n",
    "        self.timer = self.ax.figure.canvas.new_timer(interval=10)\n",
    "        self.timer.single_shot = True\n",
    "        self.timer.add_callback(lambda : self.ax.figure.canvas.draw_idle())\n",
    "        self.timer.start()"
   ]
  },
  {
   "cell_type": "code",
   "execution_count": 7,
   "metadata": {},
   "outputs": [],
   "source": [
    "import matplotlib.pyplot as plt\n",
    "import numpy as np\n",
    "import seaborn as sns\n",
    "\n",
    "plt.rcParams['mathtext.fontset'] = 'stix'\n",
    "plt.rcParams['font.family'] = 'STIXGeneral'\n",
    "\n",
    "SMALL_SIZE = 12\n",
    "MEDIUM_SIZE = 14\n",
    "BIGGER_SIZE = 18\n",
    "\n",
    "plt.rc('font', size=BIGGER_SIZE)          # controls default text sizes\n",
    "plt.rc('axes', titlesize=BIGGER_SIZE)     # fontsize of the axes title\n",
    "plt.rc('axes', labelsize=BIGGER_SIZE)    # fontsize of the x and y labels\n",
    "plt.rc('xtick', labelsize=BIGGER_SIZE)    # fontsize of the tick labels\n",
    "plt.rc('ytick', labelsize=BIGGER_SIZE)    # fontsize of the tick labels\n",
    "plt.rc('legend', fontsize=BIGGER_SIZE)    # legend fontsize\n",
    "plt.rc('figure', titlesize=BIGGER_SIZE)  # fontsize of the figure title\n",
    "\n",
    "sns.set_style()"
   ]
  },
  {
   "cell_type": "code",
   "execution_count": 9,
   "metadata": {},
   "outputs": [
    {
     "data": {
      "image/png": "[encoded data removed]",
      "text/plain": [
       "<Figure size 640x480 with 1 Axes>"
      ]
     },
     "metadata": {},
     "output_type": "display_data"
    }
   ],
   "source": [
    "vmin = 1\n",
    "vmax = 32\n",
    "\n",
    "circles = np.array([\n",
    "    [6, 8],\n",
    "    [12, 26],\n",
    "    [13, 22],\n",
    "    [20, 7],\n",
    "    [28, 12],\n",
    "    [26, 8],\n",
    "    [16, 16],\n",
    "])\n",
    "\n",
    "x = circles[:,0]\n",
    "y = circles[:,1]\n",
    "\n",
    "fig, ax = plt.subplots()\n",
    "ax.set_xlim(vmin - 0.5, vmax + 0.5)\n",
    "ax.set_ylim(vmin - 0.5, vmax + 0.5)\n",
    "\n",
    "sc = scatter(x,y,ax, linewidth=0, size=9)\n",
    "\n",
    "ax.set_aspect(1)\n",
    "ax.set_xticks([])\n",
    "ax.set_yticks([])\n",
    "\n",
    "plt.show()"
   ]
  },
  {
   "cell_type": "code",
   "execution_count": null,
   "metadata": {},
   "outputs": [],
   "source": []
  }
 ],
 "metadata": {
  "kernelspec": {
   "display_name": "chig",
   "language": "python",
   "name": "python3"
  },
  "language_info": {
   "codemirror_mode": {
    "name": "ipython",
    "version": 3
   },
   "file_extension": ".py",
   "mimetype": "text/x-python",
   "name": "python",
   "nbconvert_exporter": "python",
   "pygments_lexer": "ipython3",
   "version": "3.8.16"
  },
  "orig_nbformat": 4
 },
 "nbformat": 4,
 "nbformat_minor": 2
}
