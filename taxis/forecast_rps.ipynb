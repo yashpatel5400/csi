{
 "cells": [
  {
   "cell_type": "code",
   "execution_count": 10,
   "metadata": {},
   "outputs": [],
   "source": [
    "import matplotlib.pyplot as plt\n",
    "import numpy as np\n",
    "import os\n",
    "import pickle\n",
    "import osmnx as ox\n",
    "import networkx as nx\n",
    "from scipy import spatial\n",
    "from sklearn.cluster import KMeans"
   ]
  },
  {
   "cell_type": "code",
   "execution_count": 2,
   "metadata": {},
   "outputs": [],
   "source": [
    "plt.rcParams['mathtext.fontset'] = 'stix'\n",
    "plt.rcParams['font.family'] = 'STIXGeneral'\n",
    "\n",
    "SMALL_SIZE = 12\n",
    "MEDIUM_SIZE = 14\n",
    "BIGGER_SIZE = 18\n",
    "\n",
    "plt.rc('font', size=BIGGER_SIZE)          # controls default text sizes\n",
    "plt.rc('axes', titlesize=BIGGER_SIZE)     # fontsize of the axes title\n",
    "plt.rc('axes', labelsize=BIGGER_SIZE)    # fontsize of the x and y labels\n",
    "plt.rc('xtick', labelsize=BIGGER_SIZE)    # fontsize of the tick labels\n",
    "plt.rc('ytick', labelsize=BIGGER_SIZE)    # fontsize of the tick labels\n",
    "plt.rc('legend', fontsize=BIGGER_SIZE)    # legend fontsize\n",
    "plt.rc('figure', titlesize=BIGGER_SIZE)  # fontsize of the figure title"
   ]
  },
  {
   "cell_type": "code",
   "execution_count": 3,
   "metadata": {},
   "outputs": [],
   "source": [
    "cal_true_traffics = np.load(\"cal_true_traffics.npy\")\n",
    "cal_pred_traffics = np.load(\"cal_pred_traffics.npy\")\n",
    "test_pred_traffics = np.load(\"test_pred_traffics.npy\")"
   ]
  },
  {
   "cell_type": "code",
   "execution_count": 4,
   "metadata": {},
   "outputs": [],
   "source": [
    "G = ox.graph_from_place(\"Manhattan, New York City, New York\", network_type=\"drive\")\n",
    "\n",
    "G = ox.add_edge_speeds(G)\n",
    "G = ox.add_edge_travel_times(G)\n",
    "\n",
    "edges = ox.graph_to_gdfs(G, nodes=False)\n",
    "edges[\"highway\"] = edges[\"highway\"].astype(str)\n",
    "edges.groupby(\"highway\")[[\"length\", \"speed_kph\", \"travel_time\"]].mean().round(1)\n",
    "\n",
    "hwy_speeds = {\"residential\": 35, \"secondary\": 50, \"tertiary\": 60}\n",
    "G = ox.add_edge_speeds(G, hwy_speeds)\n",
    "G = ox.add_edge_travel_times(G)"
   ]
  },
  {
   "cell_type": "code",
   "execution_count": 5,
   "metadata": {},
   "outputs": [],
   "source": [
    "k = 10\n",
    "alpha = 0.05\n",
    "\n",
    "c_cal_tiled = np.transpose(np.tile(cal_true_traffics, (k, 1, 1)), (1, 0, 2))\n",
    "c_cal_diff = cal_pred_traffics - c_cal_tiled\n",
    "c_cal_norms = np.linalg.norm(c_cal_diff, axis=-1)\n",
    "c_cal_scores = np.min(c_cal_norms, axis=-1)\n",
    "\n",
    "conformal_quantile = np.quantile(c_cal_scores, q = 1 - alpha)"
   ]
  },
  {
   "cell_type": "code",
   "execution_count": 58,
   "metadata": {},
   "outputs": [],
   "source": [
    "def get_rps_cc(N_rps, regions_samples):\n",
    "    total_covered = np.sum([len(region_samples) for region_samples in regions_samples])\n",
    "    total_rps = 0\n",
    "    rps = []\n",
    "\n",
    "    for region_idx, region_samples in enumerate(regions_samples):\n",
    "        component_prop = len(region_samples) / total_covered\n",
    "        if region_idx == len(regions_samples) - 1:\n",
    "            n = N_rps - total_rps\n",
    "        else:\n",
    "            n = int(np.round(component_prop * N_rps))\n",
    "            total_rps += n\n",
    "\n",
    "        # TODO: should we ensure each connected component is > 1 in the \"exact answer\"? feels arbitrary but maybe desireable?\n",
    "        if n > 0:\n",
    "            kmeans = KMeans(n_clusters=n, random_state=0, n_init=\"auto\").fit(region_samples)\n",
    "            rps.append(kmeans.cluster_centers_)\n",
    "    return rps\n",
    "\n",
    "def _mullers_sample_from_ball(center, r, N_samples, d):\n",
    "    u = np.random.normal(0, 1, (N_samples, d))\n",
    "    norm = np.linalg.norm(u, axis=1)\n",
    "    radius = np.random.uniform(0, 1, N_samples)**(1/d)\n",
    "    \n",
    "    u = r * radius.reshape(-1, 1) * u / norm.reshape(-1, 1)\n",
    "    u = u + center\n",
    "    return u\n",
    "\n",
    "def get_region_samples(test_samples, N_samples):\n",
    "    k = test_samples.shape[0]\n",
    "    d = test_samples.shape[-1]\n",
    "    \n",
    "    samples = np.zeros((k, N_samples, d))\n",
    "    voronoi_assignments = np.zeros((k, N_samples))\n",
    "\n",
    "    # fraction of samples in each ball in the associated voronoi cell\n",
    "    samples = np.apply_along_axis(_mullers_sample_from_ball, axis=1, arr=test_samples, r=conformal_quantile, N_samples=N_samples, d=d)\n",
    "    samples = samples.reshape(k, N_samples, 1, -1)\n",
    "    dist = np.linalg.norm(samples - test_samples, axis=-1)\n",
    "    voronoi_assignments = np.argmin(dist, axis=-1)\n",
    "    counts = np.sum(voronoi_assignments == np.arange(k).reshape(-1, 1), axis=1)\n",
    "    \n",
    "    samples = np.vstack([samples[k,:count,0,:] for k, count in enumerate(counts)]) # should subsample uniformly for counts but this is equivalent\n",
    "    \n",
    "    # create graph\n",
    "    kdt = spatial.KDTree(samples)\n",
    "    edges = kdt.query_pairs(2000)\n",
    "    G = nx.from_edgelist(edges)\n",
    "\n",
    "    connected_components = list(nx.connected_components(G))        \n",
    "    region_samples = [samples[np.array(list(connected_component))] \n",
    "                      for connected_component in connected_components]\n",
    "    return region_samples"
   ]
  },
  {
   "cell_type": "code",
   "execution_count": 59,
   "metadata": {},
   "outputs": [],
   "source": [
    "sample_idx = 0\n",
    "regions_samples = get_region_samples(test_pred_traffics[sample_idx], N_samples=25)\n",
    "rps = get_rps_cc(N_rps=5, regions_samples=regions_samples)"
   ]
  },
  {
   "cell_type": "code",
   "execution_count": null,
   "metadata": {},
   "outputs": [],
   "source": []
  }
 ],
 "metadata": {
  "kernelspec": {
   "display_name": "chig",
   "language": "python",
   "name": "python3"
  },
  "language_info": {
   "codemirror_mode": {
    "name": "ipython",
    "version": 3
   },
   "file_extension": ".py",
   "mimetype": "text/x-python",
   "name": "python",
   "nbconvert_exporter": "python",
   "pygments_lexer": "ipython3",
   "version": "3.8.16"
  },
  "orig_nbformat": 4
 },
 "nbformat": 4,
 "nbformat_minor": 2
}
