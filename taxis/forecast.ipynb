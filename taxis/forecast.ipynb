{
 "cells": [
  {
   "cell_type": "code",
   "execution_count": 1,
   "metadata": {},
   "outputs": [
    {
     "name": "stdout",
     "output_type": "stream",
     "text": [
      "env: CUDA_VISIBLE_DEVICES=4\n",
      "env: GRB_LICENSE_FILE=/home/yppatel/gurobi.lic\n"
     ]
    }
   ],
   "source": [
    "%env CUDA_VISIBLE_DEVICES=4\n",
    "%env GRB_LICENSE_FILE=/home/yppatel/gurobi.lic"
   ]
  },
  {
   "cell_type": "code",
   "execution_count": 2,
   "metadata": {},
   "outputs": [],
   "source": [
    "import matplotlib.pyplot as plt\n",
    "import numpy as np\n",
    "import os\n",
    "import pickle\n",
    "import osmnx as ox\n",
    "import networkx as nx"
   ]
  },
  {
   "cell_type": "code",
   "execution_count": 3,
   "metadata": {},
   "outputs": [],
   "source": [
    "plt.rcParams['mathtext.fontset'] = 'stix'\n",
    "plt.rcParams['font.family'] = 'STIXGeneral'\n",
    "\n",
    "SMALL_SIZE = 12\n",
    "MEDIUM_SIZE = 14\n",
    "BIGGER_SIZE = 18\n",
    "\n",
    "plt.rc('font', size=BIGGER_SIZE)          # controls default text sizes\n",
    "plt.rc('axes', titlesize=BIGGER_SIZE)     # fontsize of the axes title\n",
    "plt.rc('axes', labelsize=BIGGER_SIZE)    # fontsize of the x and y labels\n",
    "plt.rc('xtick', labelsize=BIGGER_SIZE)    # fontsize of the tick labels\n",
    "plt.rc('ytick', labelsize=BIGGER_SIZE)    # fontsize of the tick labels\n",
    "plt.rc('legend', fontsize=BIGGER_SIZE)    # legend fontsize\n",
    "plt.rc('figure', titlesize=BIGGER_SIZE)  # fontsize of the figure title"
   ]
  },
  {
   "cell_type": "code",
   "execution_count": 58,
   "metadata": {},
   "outputs": [],
   "source": [
    "cal_true_traffics = np.load(\"cal_true_traffics.npy\")\n",
    "cal_pred_traffics = np.load(\"cal_pred_traffics.npy\")\n",
    "\n",
    "test_true_traffics = np.load(\"test_true_traffics.npy\")\n",
    "test_pred_traffics = np.load(\"test_pred_traffics.npy\")"
   ]
  },
  {
   "cell_type": "code",
   "execution_count": 59,
   "metadata": {},
   "outputs": [],
   "source": [
    "shuffle_sets = False\n",
    "if shuffle_sets:\n",
    "    inds = np.random.choice(256, 256, replace=False)\n",
    "\n",
    "    true_traffics = np.vstack([cal_true_traffics, test_true_traffics])\n",
    "    pred_traffics = np.concatenate([cal_pred_traffics, test_pred_traffics], axis=1)\n",
    "\n",
    "    cal_size = 150\n",
    "\n",
    "    cal_true_traffics, cal_pred_traffics = true_traffics[inds[:cal_size]], pred_traffics[:,inds[:cal_size]]\n",
    "    test_true_traffics, test_pred_traffics = true_traffics[inds[cal_size:]], pred_traffics[:,inds[cal_size:]]"
   ]
  },
  {
   "cell_type": "code",
   "execution_count": 60,
   "metadata": {},
   "outputs": [],
   "source": [
    "G = ox.graph_from_place(\"Manhattan, New York City, New York\", network_type=\"drive\")\n",
    "\n",
    "G = ox.add_edge_speeds(G)\n",
    "G = ox.add_edge_travel_times(G)\n",
    "\n",
    "edges = ox.graph_to_gdfs(G, nodes=False)\n",
    "edges[\"highway\"] = edges[\"highway\"].astype(str)\n",
    "edges.groupby(\"highway\")[[\"length\", \"speed_kph\", \"travel_time\"]].mean().round(1)\n",
    "\n",
    "hwy_speeds = {\"residential\": 35, \"secondary\": 50, \"tertiary\": 60}\n",
    "G = ox.add_edge_speeds(G, hwy_speeds)\n",
    "G = ox.add_edge_travel_times(G)"
   ]
  },
  {
   "cell_type": "code",
   "execution_count": 61,
   "metadata": {},
   "outputs": [],
   "source": [
    "A = nx.incidence_matrix(G, oriented=True).todense()\n",
    "b = np.zeros(len(G.nodes)) # b entries: 1 for source, -1 for target, 0 o.w.\n",
    "b[1]   = -1\n",
    "b[120] = 1 "
   ]
  },
  {
   "cell_type": "code",
   "execution_count": 66,
   "metadata": {},
   "outputs": [],
   "source": [
    "sample_idx = 0\n",
    "\n",
    "alpha = 0.05\n",
    "box_cal_scores = np.linalg.norm(cal_true_traffics - cal_pred_traffics[sample_idx], np.inf, axis=1)\n",
    "conformal_quantile = np.quantile(box_cal_scores, q=1 - alpha, axis=0)\n",
    "\n",
    "box_true_scores = np.linalg.norm(test_true_traffics - test_pred_traffics[sample_idx], np.inf, axis=1)\n",
    "covered = np.sum(box_true_scores < conformal_quantile) / len(box_true_scores)"
   ]
  },
  {
   "cell_type": "code",
   "execution_count": 70,
   "metadata": {},
   "outputs": [
    {
     "data": {
      "text/plain": [
       "(9867,)"
      ]
     },
     "execution_count": 70,
     "metadata": {},
     "output_type": "execute_result"
    }
   ],
   "source": [
    "test_idx = 0\n",
    "test_pred_traffics[sample_idx][test_idx].shape"
   ]
  },
  {
   "cell_type": "code",
   "execution_count": 72,
   "metadata": {},
   "outputs": [
    {
     "name": "stdout",
     "output_type": "stream",
     "text": [
      "Set parameter Username\n",
      "Academic license - for non-commercial use only - expires 2024-09-23\n",
      "Being solved by Gurobi...\n",
      "Solution status: 2\n",
      "Running time: 0.0571s\n"
     ]
    }
   ],
   "source": [
    "from rsome import ro\n",
    "from rsome import grb_solver as grb\n",
    "\n",
    "model = ro.Model()\n",
    "\n",
    "w = model.dvar(len(G.edges))\n",
    "c = model.rvar(len(G.edges))\n",
    "\n",
    "c_box_lb = test_pred_traffics[sample_idx][test_idx] - conformal_quantile\n",
    "c_box_ub = test_pred_traffics[sample_idx][test_idx] + conformal_quantile\n",
    "uset = (c_box_lb <= c, c <= c_box_ub)\n",
    "\n",
    "model.minmax(c @ w, uset)\n",
    "model.st(w <= 1)\n",
    "model.st(w >= 0)\n",
    "model.st(A @ w == b)\n",
    "\n",
    "model.solve(grb)"
   ]
  },
  {
   "cell_type": "code",
   "execution_count": 73,
   "metadata": {},
   "outputs": [
    {
     "data": {
      "text/plain": [
       "34473.57810163483"
      ]
     },
     "execution_count": 73,
     "metadata": {},
     "output_type": "execute_result"
    }
   ],
   "source": [
    "model.get()"
   ]
  },
  {
   "cell_type": "code",
   "execution_count": null,
   "metadata": {},
   "outputs": [],
   "source": [
    "def forecast_to_traffic(G, weathers):\n",
    "    threshold_mmh = 0.1\n",
    "    weathers[weathers < threshold_mmh] = 0\n",
    "\n",
    "    x_coords = np.array(list(nx.get_node_attributes(G, \"x\").values()))\n",
    "    y_coords = np.array(list(nx.get_node_attributes(G, \"y\").values()))\n",
    "\n",
    "    x_coord_range = (np.min(x_coords), np.max(x_coords))\n",
    "    y_coord_range = (np.min(y_coords), np.max(y_coords))\n",
    "\n",
    "    # get rain at each node\n",
    "    scaled_x = np.clip(((x_coords - x_coord_range[0]) / (x_coord_range[1] - x_coord_range[0])) * weathers.shape[1], 0, weathers.shape[1] - 1).astype(int)\n",
    "    scaled_y = np.clip(((y_coords - y_coord_range[0]) / (y_coord_range[1] - y_coord_range[0])) * weathers.shape[2], 0, weathers.shape[2] - 1).astype(int)\n",
    "    scaled_coords = np.vstack([scaled_x, scaled_y]).T\n",
    "\n",
    "    rain_node_predictions = weathers[:,scaled_coords[:,0],scaled_coords[:,1]]\n",
    "\n",
    "    # average between node endpoints to get rain along edges\n",
    "    nodes_idx_to_idx = dict(zip(list(G.nodes), range(len(G.nodes))))\n",
    "    edges = np.array([(nodes_idx_to_idx[e[0]], nodes_idx_to_idx[e[1]]) for e in list(G.edges)])\n",
    "    rain_edge_predictions = np.concatenate([\n",
    "        np.expand_dims(rain_node_predictions[:,edges[:,0]], axis=-1), \n",
    "        np.expand_dims(rain_node_predictions[:,edges[:,1]], axis=-1),\n",
    "    ], axis=-1)\n",
    "\n",
    "    travel_time = np.array(list(nx.get_edge_attributes(G, name=\"travel_time\").values()))\n",
    "    forecast_traffic = travel_time * np.exp(np.mean(rain_edge_predictions, axis=-1))\n",
    "\n",
    "    return forecast_traffic"
   ]
  }
 ],
 "metadata": {
  "kernelspec": {
   "display_name": "chig",
   "language": "python",
   "name": "python3"
  },
  "language_info": {
   "codemirror_mode": {
    "name": "ipython",
    "version": 3
   },
   "file_extension": ".py",
   "mimetype": "text/x-python",
   "name": "python",
   "nbconvert_exporter": "python",
   "pygments_lexer": "ipython3",
   "version": "3.8.16"
  },
  "orig_nbformat": 4
 },
 "nbformat": 4,
 "nbformat_minor": 2
}
