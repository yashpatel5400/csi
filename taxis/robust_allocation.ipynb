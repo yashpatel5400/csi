{
 "cells": [
  {
   "cell_type": "code",
   "execution_count": 47,
   "metadata": {},
   "outputs": [],
   "source": [
    "import pandas as pd\n",
    "\n",
    "data = pd.read_csv('https://xiongpengnus.github.io/rsome/taxi_rain.csv')\n",
    "\n",
    "demand = data.loc[:, 'Region1':'Region10']      # taxi demand data\n",
    "\n",
    "c_ub = demand.max().values                      # upper bound of demand\n",
    "c_lb = demand.min().values                      # lower bound of demand\n",
    "\n",
    "c_ub /= 5"
   ]
  },
  {
   "cell_type": "code",
   "execution_count": 48,
   "metadata": {},
   "outputs": [],
   "source": [
    "import numpy as np\n",
    "\n",
    "I, J = 1, 10\n",
    "\n",
    "r = np.array([4.50, 4.41, 3.61, 4.49, 4.38, 4.58, 4.53, 4.64, 4.58, 4.32]) # need to get these for real case?\n",
    "q = 400 * np.ones(I)"
   ]
  },
  {
   "cell_type": "code",
   "execution_count": 49,
   "metadata": {},
   "outputs": [
    {
     "name": "stdout",
     "output_type": "stream",
     "text": [
      "Being solved by Gurobi...\n"
     ]
    },
    {
     "name": "stdout",
     "output_type": "stream",
     "text": [
      "Solution status: 2\n",
      "Running time: 0.0004s\n"
     ]
    }
   ],
   "source": [
    "# need to account for satisfying demand\n",
    "\n",
    "from rsome import ro                            # import the ro module\n",
    "from rsome import grb_solver as grb             # import Gurobi solver interface\n",
    "\n",
    "model = ro.Model()                              # create an RO model\n",
    "\n",
    "c = model.rvar((I, J))                               # create an array of random demand\n",
    "cset = (c_lb <= c, c <= c_ub)                   # define a box uncertainty set\n",
    "\n",
    "x = model.dvar((I, J))                          # define here-and-now decision x\n",
    "\n",
    "model.minmax(((c-r)*x).sum(), cset)                 # the worst-case objective function\n",
    "model.st(x.sum(axis=1) <= q, x >= 0)            # deterministic constraints: q is supply\n",
    "\n",
    "model.solve(grb)                                # solve the model with Gurobi"
   ]
  },
  {
   "cell_type": "code",
   "execution_count": 50,
   "metadata": {},
   "outputs": [
    {
     "data": {
      "text/plain": [
       "-8.734936859093295"
      ]
     },
     "execution_count": 50,
     "metadata": {},
     "output_type": "execute_result"
    }
   ],
   "source": [
    "model.get()"
   ]
  },
  {
   "cell_type": "code",
   "execution_count": null,
   "metadata": {},
   "outputs": [],
   "source": []
  },
  {
   "cell_type": "code",
   "execution_count": null,
   "metadata": {},
   "outputs": [],
   "source": []
  }
 ],
 "metadata": {
  "kernelspec": {
   "display_name": "chig",
   "language": "python",
   "name": "python3"
  },
  "language_info": {
   "codemirror_mode": {
    "name": "ipython",
    "version": 3
   },
   "file_extension": ".py",
   "mimetype": "text/x-python",
   "name": "python",
   "nbconvert_exporter": "python",
   "pygments_lexer": "ipython3",
   "version": "3.8.16"
  },
  "orig_nbformat": 4
 },
 "nbformat": 4,
 "nbformat_minor": 2
}
